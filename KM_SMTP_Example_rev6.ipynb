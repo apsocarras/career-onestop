{
 "cells": [
  {
   "cell_type": "markdown",
   "id": "13ec9a13-1f80-41d6-b32a-bf9c85b07e0e",
   "metadata": {
    "tags": []
   },
   "source": [
    "# Sending email programmatically"
   ]
  },
  {
   "cell_type": "code",
   "execution_count": 1,
   "id": "29a3db42",
   "metadata": {
    "tags": []
   },
   "outputs": [],
   "source": [
    "# Import necessary libraries.\n",
    "import json\n",
    "import pandas as pd\n",
    "import urllib.parse\n",
    "import smtplib\n",
    "from email.mime.multipart import MIMEMultipart\n",
    "from email.mime.text import MIMEText\n",
    "from tabulate import tabulate\n",
    "from datetime import datetime"
   ]
  },
  {
   "cell_type": "code",
   "execution_count": 2,
   "id": "e7ad2a4e",
   "metadata": {
    "tags": []
   },
   "outputs": [],
   "source": [
    "# 12 letter email app password must be added here.\n",
    "password = \"\""
   ]
  },
  {
   "cell_type": "markdown",
   "id": "009bdcbb",
   "metadata": {
    "tags": []
   },
   "source": [
    "## Sending an email from gmail to gmail:"
   ]
  },
  {
   "cell_type": "markdown",
   "id": "661d3c75",
   "metadata": {},
   "source": [
    "Check gmail through other email platforms: https://support.google.com/mail/answer/7126229?visit_id=638300612428115617-2230202100&p=BadCredentials&rd=2#cantsignin&zippy=%2Ci-cant-sign-in-to-my-email-client"
   ]
  },
  {
   "cell_type": "markdown",
   "id": "42747c6e",
   "metadata": {},
   "source": [
    "Sign in with app password: https://support.google.com/accounts/answer/185833?sjid=13742701505310090574-NA"
   ]
  },
  {
   "cell_type": "markdown",
   "id": "69bbb3cb-e5e4-4a2d-99fc-ae42217fe89a",
   "metadata": {},
   "source": [
    "## Data Loading and Processing:"
   ]
  },
  {
   "cell_type": "code",
   "execution_count": 3,
   "id": "39869dbe-1bd0-4381-985f-ebda31e0b635",
   "metadata": {
    "tags": []
   },
   "outputs": [],
   "source": [
    "# Load data from JSON file\n",
    "def load_data(file_path):\n",
    "    \"\"\"\n",
    "    Load data from a JSON file.\n",
    "\n",
    "    Args:\n",
    "        file_path (str): The path to the JSON file.\n",
    "\n",
    "    Returns:\n",
    "        dict: A dictionary containing the loaded data.\n",
    "    \"\"\"\n",
    "    with open(file_path, 'r') as json_file:\n",
    "        data = json.load(json_file)\n",
    "    return data\n",
    "\n",
    "# Define a custom formatting function\n",
    "def format_annual_wages(wage):\n",
    "    \"\"\"\n",
    "    Format the annual wages value with commas as thousands separators.\n",
    "\n",
    "    Parameters:\n",
    "        wage (float): The annual wages value to be formatted.\n",
    "\n",
    "    Returns:\n",
    "        str: The formatted annual wages value as a string.\n",
    "\n",
    "    Example:\n",
    "        >>> format_annual_wages(50000)\n",
    "        '50,000'\n",
    "    \"\"\"\n",
    "    return \"{:,.0f}\".format(wage)"
   ]
  },
  {
   "cell_type": "markdown",
   "id": "f3b5d24a-70a6-40a1-aeba-a083addf2204",
   "metadata": {},
   "source": [
    "## Define hyperlinks"
   ]
  },
  {
   "cell_type": "code",
   "execution_count": 4,
   "id": "7ad21d74-1dc8-42c2-80f0-505c700651dd",
   "metadata": {
    "tags": []
   },
   "outputs": [],
   "source": [
    "# Create hyperlinks\n",
    "def create_hyperlink(row):\n",
    "    \"\"\"\n",
    "    Create hyperlinks for the \"Career\" column based on provided parameters.\n",
    "\n",
    "    Args:\n",
    "        row (pandas.Series): A row of data from the DataFrame.\n",
    "\n",
    "    Returns:\n",
    "        str: An HTML hyperlink for the Career column.\n",
    "    \"\"\"\n",
    "    base_url = \"https://www.careeronestop.org/Toolkit/Careers/Occupations/occupation-profile.aspx?\"\n",
    "    parameters = {\n",
    "        \"keyword\": urllib.parse.quote(row[\"Career\"]),\n",
    "        \"location\": \"US\",\n",
    "        \"lang\": \"en\",\n",
    "        \"onetCode\": row[\"OnetCode\"]\n",
    "    }\n",
    "    url_params = \"&\".join([f\"{key}={value}\" for key, value in parameters.items()])\n",
    "    url = f'{base_url}{url_params}'\n",
    "    return url"
   ]
  },
  {
   "cell_type": "markdown",
   "id": "f0d02953-f9cf-4297-9167-4e55a87409fa",
   "metadata": {},
   "source": [
    "## Email Configuration:"
   ]
  },
  {
   "cell_type": "code",
   "execution_count": 5,
   "id": "9bd2d755-c599-4f4a-9c4a-2897b016de59",
   "metadata": {
    "tags": []
   },
   "outputs": [],
   "source": [
    "# Define constants\n",
    "SENDER_EMAIL = \"kamran.techimpact@gmail.com\"\n",
    "RECEIVER_EMAIL = \"kamran.techimpact@gmail.com\"\n",
    "SMTP_SERVER = \"smtp.gmail.com\"\n",
    "SMTP_PORT = 587\n",
    "EMAIL_PASSWORD = password"
   ]
  },
  {
   "cell_type": "markdown",
   "id": "a675025e-4fab-48bf-8a6f-3414c43369e9",
   "metadata": {},
   "source": [
    "## Email Sending Logic:"
   ]
  },
  {
   "cell_type": "code",
   "execution_count": 6,
   "id": "bc2a153b-f7b4-474d-b2a1-ba93ca9b1ab8",
   "metadata": {
    "tags": []
   },
   "outputs": [],
   "source": [
    "# Send email\n",
    "def send_email(subject, message):\n",
    "    \"\"\"\n",
    "    Send an email with a specified subject and message.\n",
    "\n",
    "    Args:\n",
    "        subject (str): The subject of the email.\n",
    "        message (str): The HTML message content of the email.\n",
    "    \"\"\"\n",
    "    msg = MIMEMultipart()\n",
    "    msg[\"Subject\"] = subject\n",
    "    msg.attach(MIMEText(message, 'html'))  # Use 'html' for HTML content or 'plain' for plain text.\n",
    "\n",
    "    server = smtplib.SMTP(SMTP_SERVER, SMTP_PORT)\n",
    "    server.starttls()\n",
    "    server.login(SENDER_EMAIL, EMAIL_PASSWORD)\n",
    "    server.sendmail(SENDER_EMAIL, RECEIVER_EMAIL, msg.as_string())\n",
    "    server.quit()"
   ]
  },
  {
   "cell_type": "markdown",
   "id": "8e776ccf-40b0-455b-b43c-7a181ebce805",
   "metadata": {},
   "source": [
    "## Main Execution:"
   ]
  },
  {
   "cell_type": "code",
   "execution_count": 7,
   "id": "81daf71e-9d32-4ae7-8e52-1bfe3968108d",
   "metadata": {
    "tags": []
   },
   "outputs": [],
   "source": [
    "# Load data\n",
    "data = load_data('/Users/kamran/Downloads/DWDB/repo/career-onestop/data/skills-submit-api/example-response.json')\n",
    "\n",
    "# Extract and format data\n",
    "key_list = list(data.keys())\n",
    "inner_dict0 = data[key_list[0]]\n",
    "recoms_df = pd.DataFrame(inner_dict0)\n",
    "recoms_df_modified = recoms_df[['Rank', \n",
    "                                'OccupationTitle', \n",
    "                                'AnnualWages', \n",
    "                                'TypicalEducation', \n",
    "                                'Outlook', \n",
    "                                'OnetCode']].copy()\n",
    "\n",
    "recoms_df_modified.rename(columns={'Rank': 'Your Match', \n",
    "                                   'OccupationTitle': 'Career', \n",
    "                                   'AnnualWages': 'Annual Wages', \n",
    "                                   'TypicalEducation': 'Education'}, inplace=True)\n",
    "\n",
    "# Format Annual Wages\n",
    "recoms_df_modified['Annual Wages'] = recoms_df_modified['Annual Wages'].apply(format_annual_wages)\n",
    "\n",
    "# Create hyperlinks and store them in a new column\n",
    "recoms_df_modified[\"Career Hyperlink\"] = recoms_df_modified.apply(create_hyperlink, axis=1)\n",
    "\n",
    "# Drop redundant columns\n",
    "recoms_df_modified.drop('OnetCode', axis=1, inplace=True)\n",
    "\n",
    "column_alignments = {\n",
    "    \"Your Match\": \"center\",\n",
    "    \"Career\": \"left\",\n",
    "    \"Annual Wages\": \"right\",\n",
    "    \"Education\": \"left\",\n",
    "    \"Outlook\": \"left\"\n",
    "}\n",
    "\n",
    "# Extract the alignment values into a list in the same order as columns\n",
    "alignment_list = [column_alignments.get(column, \"left\") for column in recoms_df_modified.columns]\n",
    "\n",
    "# Tabulate the info with specified column alignments\n",
    "table = tabulate(\n",
    "    recoms_df_modified.to_dict(orient='records'),\n",
    "    headers=\"keys\",\n",
    "    tablefmt=\"html\",\n",
    "    colalign=alignment_list\n",
    ")\n",
    "\n",
    "# Find the current date\n",
    "current_date = datetime.now().strftime(\"%B %d, %Y\")\n",
    "\n",
    "# Create subject and body of the message\n",
    "subject = f'Your survey result for {current_date}'\n",
    "message = f'Your results are as follows:\\n\\n{table}'\n",
    "\n",
    "# Send the email\n",
    "send_email(subject, message)"
   ]
  },
  {
   "cell_type": "markdown",
   "id": "a18bd47a-abc7-4e78-aa9b-a696d7a7d337",
   "metadata": {},
   "source": [
    "## Example message received"
   ]
  },
  {
   "cell_type": "markdown",
   "id": "a8de73a5-364f-4810-b035-7624d966d09a",
   "metadata": {
    "tags": []
   },
   "source": [
    "Your results are as follows:\n",
    "Your Match\tCareer\tAnnual Wages\tEducation\tOutlook\tCareer Hyperlink\n",
    "1\tPhysical Medicine and Rehabilitation Physicians\t223,410\tDoctoral or professional degree\tBelow Average\thttps://www.careeronestop.org/Toolkit/Careers/Occupations/occupation-profile.aspx?keyword=Physical%20Medicine%20and%20Rehabilitation%20Physicians&location=US&lang=en&onetCode=29-1229.04\n",
    "2\tAdvanced Practice Psychiatric Nurses\t81,220\tBachelor's degree\tBright\thttps://www.careeronestop.org/Toolkit/Careers/Occupations/occupation-profile.aspx?keyword=Advanced%20Practice%20Psychiatric%20Nurses&location=US&lang=en&onetCode=29-1141.02\n",
    "3\tNaturopathic Physicians\t106,230\tMaster's degree\tBelow Average\thttps://www.careeronestop.org/Toolkit/Careers/Occupations/occupation-profile.aspx?keyword=Naturopathic%20Physicians&location=US&lang=en&onetCode=29-1299.01\n",
    "4\tAcupuncturists\t72,220\tMaster's degree\tAverage\thttps://www.careeronestop.org/Toolkit/Careers/Occupations/occupation-profile.aspx?keyword=Acupuncturists&location=US&lang=en&onetCode=29-1291.00\n",
    "5\tAnthropology and Archeology Teachers, Postsecondary\t85,000\tDoctoral or professional degree\tBright\thttps://www.careeronestop.org/Toolkit/Careers/Occupations/occupation-profile.aspx?keyword=Anthropology%20and%20Archeology%20Teachers%2C%20Postsecondary&location=US&lang=en&onetCode=25-1061.00\n",
    "6\tObstetricians and Gynecologists\t999,999\tDoctoral or professional degree\tBelow Average\thttps://www.careeronestop.org/Toolkit/Careers/Occupations/occupation-profile.aspx?keyword=Obstetricians%20and%20Gynecologists&location=US&lang=en&onetCode=29-1218.00\n",
    "7\tHealth Specialties Teachers, Postsecondary\t100,300\tDoctoral or professional degree\tBright\thttps://www.careeronestop.org/Toolkit/Careers/Occupations/occupation-profile.aspx?keyword=Health%20Specialties%20Teachers%2C%20Postsecondary&location=US&lang=en&onetCode=25-1071.00\n",
    "8\tMiddle School Teachers, Except Special and Career/Technical Education\t61,810\tBachelor's degree\tAverage\thttps://www.careeronestop.org/Toolkit/Careers/Occupations/occupation-profile.aspx?keyword=Middle%20School%20Teachers%2C%20Except%20Special%20and%20Career/Technical%20Education&location=US&lang=en&onetCode=25-2022.00\n",
    "9\tChiropractors\t75,380\tDoctoral or professional degree\tBright\thttps://www.careeronestop.org/Toolkit/Careers/Occupations/occupation-profile.aspx?keyword=Chiropractors&location=US&lang=en&onetCode=29-1011.00\n",
    "10\tRecreation and Fitness Studies Teachers, Postsecondary\t72,650\tDoctoral or professional degree\tAverage\thttps://www.careeronestop.org/Toolkit/Careers/Occupations/occupation-profile.aspx?keyword=Recreation%20and%20Fitness%20Studies%20Teachers%2C%20Postsecondary&location=US&lang=en&onetCode=25-1193.00\n",
    "11\tCostume Attendants\t48,470\tHigh school diploma or equivalent\tBright\thttps://www.careeronestop.org/Toolkit/Careers/Occupations/occupation-profile.aspx?keyword=Costume%20Attendants&location=US&lang=en&onetCode=39-3092.00\n",
    "12\tMidwives\t60,160\tPostsecondary non-degree award\tAverage\thttps://www.careeronestop.org/Toolkit/Careers/Occupations/occupation-profile.aspx?keyword=Midwives&location=US&lang=en&onetCode=29-9099.01\n",
    "13\tEmbalmers\t49,910\tAssociate's degree\tAverage\thttps://www.careeronestop.org/Toolkit/Careers/Occupations/occupation-profile.aspx?keyword=Embalmers&location=US&lang=en&onetCode=39-4011.00\n",
    "14\tUrologists\t223,410\tDoctoral or professional degree\tBelow Average\thttps://www.careeronestop.org/Toolkit/Careers/Occupations/occupation-profile.aspx?keyword=Urologists&location=US&lang=en&onetCode=29-1229.03\n",
    "15\tOccupational Health and Safety Technicians\t57,970\tHigh school diploma or equivalent\tAverage\thttps://www.careeronestop.org/Toolkit/Careers/Occupations/occupation-profile.aspx?keyword=Occupational%20Health%20and%20Safety%20Technicians&location=US&lang=en&onetCode=19-5012.00\n",
    "16\tCoroners\t71,690\tBachelor's degree\tAverage\thttps://www.careeronestop.org/Toolkit/Careers/Occupations/occupation-profile.aspx?keyword=Coroners&location=US&lang=en&onetCode=13-1041.06\n",
    "17\tGenetic Counselors\t89,990\tMaster's degree\tBright\thttps://www.careeronestop.org/Toolkit/Careers/Occupations/occupation-profile.aspx?keyword=Genetic%20Counselors&location=US&lang=en&onetCode=29-9092.00\n",
    "18\tClinical Nurse Specialists\t81,220\tBachelor's degree\tBright\thttps://www.careeronestop.org/Toolkit/Careers/Occupations/occupation-profile.aspx?keyword=Clinical%20Nurse%20Specialists&location=US&lang=en&onetCode=29-1141.04\n",
    "19\tNurse Midwives\t120,880\tMaster's degree\tBright\thttps://www.careeronestop.org/Toolkit/Careers/Occupations/occupation-profile.aspx?keyword=Nurse%20Midwives&location=US&lang=en&onetCode=29-1161.00\n",
    "20\tArt Therapists\t60,800\tBachelor's degree\tBright\thttps://www.careeronestop.org/Toolkit/Careers/Occupations/occupation-profile.aspx?keyword=Art%20Therapists&location=US&lang=en&onetCode=29-1129.01\n",
    "21\tRecreational Therapists\t51,330\tBachelor's degree\tAverage\thttps://www.careeronestop.org/Toolkit/Careers/Occupations/occupation-profile.aspx?keyword=Recreational%20Therapists&location=US&lang=en&onetCode=29-1125.00\n",
    "22\tAllergists and Immunologists\t223,410\tDoctoral or professional degree\tBelow Average\thttps://www.careeronestop.org/Toolkit/Careers/Occupations/occupation-profile.aspx?keyword=Allergists%20and%20Immunologists&location=US&lang=en&onetCode=29-1229.01\n",
    "23\tCoil Winders, Tapers, and Finishers\t43,160\tHigh school diploma or equivalent\tBelow Average\thttps://www.careeronestop.org/Toolkit/Careers/Occupations/occupation-profile.aspx?keyword=Coil%20Winders%2C%20Tapers%2C%20and%20Finishers&location=US&lang=en&onetCode=51-2021.00\n",
    "24\tAnthropologists and Archeologists\t63,940\tMaster's degree\tAverage\thttps://www.careeronestop.org/Toolkit/Careers/Occupations/occupation-profile.aspx?keyword=Anthropologists%20and%20Archeologists&location=US&lang=en&onetCode=19-3091.00\n",
    "25\tMusic Therapists\t60,800\tBachelor's degree\tBright\thttps://www.careeronestop.org/Toolkit/Careers/Occupations/occupation-profile.aspx?keyword=Music%20Therapists&location=US&lang=en&onetCode=29-1129.02\n",
    "26\tPsychology Teachers, Postsecondary\t78,810\tDoctoral or professional degree\tBright\thttps://www.careeronestop.org/Toolkit/Careers/Occupations/occupation-profile.aspx?keyword=Psychology%20Teachers%2C%20Postsecondary&location=US&lang=en&onetCode=25-1066.00\n",
    "27\tPhlebotomists\t38,530\tPostsecondary non-degree award\tBright\thttps://www.careeronestop.org/Toolkit/Careers/Occupations/occupation-profile.aspx?keyword=Phlebotomists&location=US&lang=en&onetCode=31-9097.00\n",
    "28\tGeneral Internal Medicine Physicians\t214,460\tDoctoral or professional degree\tBelow Average\thttps://www.careeronestop.org/Toolkit/Careers/Occupations/occupation-profile.aspx?keyword=General%20Internal%20Medicine%20Physicians&location=US&lang=en&onetCode=29-1216.00\n",
    "29\tNeurologists\t224,260\tDoctoral or professional degree\tBelow Average\thttps://www.careeronestop.org/Toolkit/Careers/Occupations/occupation-profile.aspx?keyword=Neurologists&location=US&lang=en&onetCode=29-1217.00\n",
    "30\tManicurists and Pedicurists\t31,130\tPostsecondary non-degree award\tBright\thttps://www.careeronestop.org/Toolkit/Careers/Occupations/occupation-profile.aspx?keyword=Manicurists%20and%20Pedicurists&location=US&lang=en&onetCode=39-5092.00\n",
    "31\tOccupational Therapists\t93,180\tMaster's degree\tBright\thttps://www.careeronestop.org/Toolkit/Careers/Occupations/occupation-profile.aspx?keyword=Occupational%20Therapists&location=US&lang=en&onetCode=29-1122.00\n",
    "32\tHospitalists\t223,410\tDoctoral or professional degree\tBelow Average\thttps://www.careeronestop.org/Toolkit/Careers/Occupations/occupation-profile.aspx?keyword=Hospitalists&location=US&lang=en&onetCode=29-1229.02\n",
    "33\tNursing Assistants\t35,760\tPostsecondary non-degree award\tBright\thttps://www.careeronestop.org/Toolkit/Careers/Occupations/occupation-profile.aspx?keyword=Nursing%20Assistants&location=US&lang=en&onetCode=31-1131.00\n",
    "34\tOral and Maxillofacial Surgeons\t999,999\tDoctoral or professional degree\tAverage\thttps://www.careeronestop.org/Toolkit/Careers/Occupations/occupation-profile.aspx?keyword=Oral%20and%20Maxillofacial%20Surgeons&location=US&lang=en&onetCode=29-1022.00\n",
    "35\tKindergarten Teachers, Except Special Education\t60,490\tBachelor's degree\tAverage\thttps://www.careeronestop.org/Toolkit/Careers/Occupations/occupation-profile.aspx?keyword=Kindergarten%20Teachers%2C%20Except%20Special%20Education&location=US&lang=en&onetCode=25-2012.00\n",
    "36\tOrthotists and Prosthetists\t77,070\tMaster's degree\tBright\thttps://www.careeronestop.org/Toolkit/Careers/Occupations/occupation-profile.aspx?keyword=Orthotists%20and%20Prosthetists&location=US&lang=en&onetCode=29-2091.00\n",
    "37\tPhysical Therapist Aides\t31,410\tHigh school diploma or equivalent\tBright\thttps://www.careeronestop.org/Toolkit/Careers/Occupations/occupation-profile.aspx?keyword=Physical%20Therapist%20Aides&location=US&lang=en&onetCode=31-2022.00\n",
    "38\tPediatricians, General\t190,350\tDoctoral or professional degree\tBelow Average\thttps://www.careeronestop.org/Toolkit/Careers/Occupations/occupation-profile.aspx?keyword=Pediatricians%2C%20General&location=US&lang=en&onetCode=29-1221.00\n",
    "39\tPhysician Assistants\t126,010\tMaster's degree\tBright\thttps://www.careeronestop.org/Toolkit/Careers/Occupations/occupation-profile.aspx?keyword=Physician%20Assistants&location=US&lang=en&onetCode=29-1071.00\n",
    "40\tSecondary School Teachers, Except Special and Career/Technical Education\t62,360\tBachelor's degree\tAverage\thttps://www.careeronestop.org/Toolkit/Careers/Occupations/occupation-profile.aspx?keyword=Secondary%20School%20Teachers%2C%20Except%20Special%20and%20Career/Technical%20Education&location=US&lang=en&onetCode=25-2031.00\n",
    "41\tAgricultural Sciences Teachers, Postsecondary\t85,860\tDoctoral or professional degree\tAverage\thttps://www.careeronestop.org/Toolkit/Careers/Occupations/occupation-profile.aspx?keyword=Agricultural%20Sciences%20Teachers%2C%20Postsecondary&location=US&lang=en&onetCode=25-1041.00\n",
    "42\tGraders and Sorters, Agricultural Products\t32,550\tNo formal educational credential\tBelow Average\thttps://www.careeronestop.org/Toolkit/Careers/Occupations/occupation-profile.aspx?keyword=Graders%20and%20Sorters%2C%20Agricultural%20Products&location=US&lang=en&onetCode=45-2041.00\n",
    "43\tEnvironmental Science Teachers, Postsecondary\t83,040\tDoctoral or professional degree\tBright\thttps://www.careeronestop.org/Toolkit/Careers/Occupations/occupation-profile.aspx?keyword=Environmental%20Science%20Teachers%2C%20Postsecondary&location=US&lang=en&onetCode=25-1053.00\n",
    "44\tNursing Instructors and Teachers, Postsecondary\t78,580\tDoctoral or professional degree\tBright\thttps://www.careeronestop.org/Toolkit/Careers/Occupations/occupation-profile.aspx?keyword=Nursing%20Instructors%20and%20Teachers%2C%20Postsecondary&location=US&lang=en&onetCode=25-1072.00\n",
    "45\tMassage Therapists\t49,860\tPostsecondary non-degree award\tBright\thttps://www.careeronestop.org/Toolkit/Careers/Occupations/occupation-profile.aspx?keyword=Massage%20Therapists&location=US&lang=en&onetCode=31-9011.00\n",
    "46\tLifeguards, Ski Patrol, and Other Recreational Protective Service Workers\t27,270\tNo formal educational credential\tBright\thttps://www.careeronestop.org/Toolkit/Careers/Occupations/occupation-profile.aspx?keyword=Lifeguards%2C%20Ski%20Patrol%2C%20and%20Other%20Recreational%20Protective%20Service%20Workers&location=US&lang=en&onetCode=33-9092.00\n",
    "47\tMeat, Poultry, and Fish Cutters and Trimmers\t35,070\tNo formal educational credential\tBelow Average\thttps://www.careeronestop.org/Toolkit/Careers/Occupations/occupation-profile.aspx?keyword=Meat%2C%20Poultry%2C%20and%20Fish%20Cutters%20and%20Trimmers&location=US&lang=en&onetCode=51-3022.00\n",
    "48\tNurse Practitioners\t121,610\tMaster's degree\tBright\thttps://www.careeronestop.org/Toolkit/Careers/Occupations/occupation-profile.aspx?keyword=Nurse%20Practitioners&location=US&lang=en&onetCode=29-1171.00\n",
    "49\tAnimal Caretakers\t29,530\tHigh school diploma or equivalent\tBright\thttps://www.careeronestop.org/Toolkit/Careers/Occupations/occupation-profile.aspx?keyword=Animal%20Caretakers&location=US&lang=en&onetCode=39-2021.00\n",
    "50\tPsychiatrists\t226,880\tDoctoral or professional degree\tBright\thttps://www.careeronestop.org/Toolkit/Careers/Occupations/occupation-profile.aspx?keyword=Psychiatrists&location=US&lang=en&onetCode=29-1223.00\n",
    "51\tHealth Education Specialists\t59,990\tBachelor's degree\tBright\thttps://www.careeronestop.org/Toolkit/Careers/Occupations/occupation-profile.aspx?keyword=Health%20Education%20Specialists&location=US&lang=en&onetCode=21-1091.00\n",
    "52\tCareer/Technical Education Teachers, Middle School\t62,630\tBachelor's degree\tBelow Average\thttps://www.careeronestop.org/Toolkit/Careers/Occupations/occupation-profile.aspx?keyword=Career/Technical%20Education%20Teachers%2C%20Middle%20School&location=US&lang=en&onetCode=25-2023.00\n",
    "53\tArt, Drama, and Music Teachers, Postsecondary\t77,280\tMaster's degree\tBright\thttps://www.careeronestop.org/Toolkit/Careers/Occupations/occupation-profile.aspx?keyword=Art%2C%20Drama%2C%20and%20Music%20Teachers%2C%20Postsecondary&location=US&lang=en&onetCode=25-1121.00\n",
    "54\tCareer/Technical Education Teachers, Secondary School\t62,500\tBachelor's degree\tBelow Average\thttps://www.careeronestop.org/Toolkit/Careers/Occupations/occupation-profile.aspx?keyword=Career/Technical%20Education%20Teachers%2C%20Secondary%20School&location=US&lang=en&onetCode=25-2032.00\n",
    "55\tMagnetic Resonance Imaging Technologists\t80,090\tAssociate's degree\tAverage\thttps://www.careeronestop.org/Toolkit/Careers/Occupations/occupation-profile.aspx?keyword=Magnetic%20Resonance%20Imaging%20Technologists&location=US&lang=en&onetCode=29-2035.00\n",
    "56\tPhysical Therapists\t97,720\tDoctoral or professional degree\tBright\thttps://www.careeronestop.org/Toolkit/Careers/Occupations/occupation-profile.aspx?keyword=Physical%20Therapists&location=US&lang=en&onetCode=29-1123.00\n",
    "57\tRadiologists\t999,999\tDoctoral or professional degree\tAverage\thttps://www.careeronestop.org/Toolkit/Careers/Occupations/occupation-profile.aspx?keyword=Radiologists&location=US&lang=en&onetCode=29-1224.00\n",
    "58\tHistorians\t64,540\tMaster's degree\tAverage\thttps://www.careeronestop.org/Toolkit/Careers/Occupations/occupation-profile.aspx?keyword=Historians&location=US&lang=en&onetCode=19-3093.00\n",
    "59\tOptometrists\t125,590\tDoctoral or professional degree\tBright\thttps://www.careeronestop.org/Toolkit/Careers/Occupations/occupation-profile.aspx?keyword=Optometrists&location=US&lang=en&onetCode=29-1041.00\n",
    "60\tAtmospheric, Earth, Marine, and Space Sciences Teachers, Postsecondary\t97,770\tDoctoral or professional degree\tAverage\thttps://www.careeronestop.org/Toolkit/Careers/Occupations/occupation-profile.aspx?keyword=Atmospheric%2C%20Earth%2C%20Marine%2C%20and%20Space%20Sciences%20Teachers%2C%20Postsecondary&location=US&lang=en&onetCode=25-1051.00\n",
    "61\tParking Enforcement Workers\t41,570\tHigh school diploma or equivalent\tBelow Average\thttps://www.careeronestop.org/Toolkit/Careers/Occupations/occupation-profile.aspx?keyword=Parking%20Enforcement%20Workers&location=US&lang=en&onetCode=33-3041.00\n",
    "62\tBiological Science Teachers, Postsecondary\t81,650\tDoctoral or professional degree\tBright\thttps://www.careeronestop.org/Toolkit/Careers/Occupations/occupation-profile.aspx?keyword=Biological%20Science%20Teachers%2C%20Postsecondary&location=US&lang=en&onetCode=25-1042.00\n",
    "63\tEnglish Language and Literature Teachers, Postsecondary\t74,280\tDoctoral or professional degree\tAverage\thttps://www.careeronestop.org/Toolkit/Careers/Occupations/occupation-profile.aspx?keyword=English%20Language%20and%20Literature%20Teachers%2C%20Postsecondary&location=US&lang=en&onetCode=25-1123.00\n",
    "64\tVeterinarians\t103,260\tDoctoral or professional degree\tBright\thttps://www.careeronestop.org/Toolkit/Careers/Occupations/occupation-profile.aspx?keyword=Veterinarians&location=US&lang=en&onetCode=29-1131.00\n",
    "65\tMedical Secretaries and Administrative Assistants\t38,500\tHigh school diploma or equivalent\tBright\thttps://www.careeronestop.org/Toolkit/Careers/Occupations/occupation-profile.aspx?keyword=Medical%20Secretaries%20and%20Administrative%20Assistants&location=US&lang=en&onetCode=43-6013.00\n",
    "66\tCritical Care Nurses\t81,220\tBachelor's degree\tBright\thttps://www.careeronestop.org/Toolkit/Careers/Occupations/occupation-profile.aspx?keyword=Critical%20Care%20Nurses&location=US&lang=en&onetCode=29-1141.03\n",
    "67\tCommunity Health Workers\t46,190\tHigh school diploma or equivalent\tBright\thttps://www.careeronestop.org/Toolkit/Careers/Occupations/occupation-profile.aspx?keyword=Community%20Health%20Workers&location=US&lang=en&onetCode=21-1094.00\n",
    "68\tHealthcare Social Workers\t60,280\tMaster's degree\tBright\thttps://www.careeronestop.org/Toolkit/Careers/Occupations/occupation-profile.aspx?keyword=Healthcare%20Social%20Workers&location=US&lang=en&onetCode=21-1022.00\n",
    "69\tSpecial Education Teachers, Secondary School\t63,560\tBachelor's degree\tAverage\thttps://www.careeronestop.org/Toolkit/Careers/Occupations/occupation-profile.aspx?keyword=Special%20Education%20Teachers%2C%20Secondary%20School&location=US&lang=en&onetCode=25-2058.00\n",
    "70\tResidential Advisors\t35,720\tHigh school diploma or equivalent\tBright\thttps://www.careeronestop.org/Toolkit/Careers/Occupations/occupation-profile.aspx?keyword=Residential%20Advisors&location=US&lang=en&onetCode=39-9041.00\n",
    "71\tAnesthesiologists\t999,999\tDoctoral or professional degree\tBelow Average\thttps://www.careeronestop.org/Toolkit/Careers/Occupations/occupation-profile.aspx?keyword=Anesthesiologists&location=US&lang=en&onetCode=29-1211.00\n",
    "72\tFile Clerks\t37,290\tHigh school diploma or equivalent\tBelow Average\thttps://www.careeronestop.org/Toolkit/Careers/Occupations/occupation-profile.aspx?keyword=File%20Clerks&location=US&lang=en&onetCode=43-4071.00\n",
    "73\tPreventive Medicine Physicians\t223,410\tDoctoral or professional degree\tBelow Average\thttps://www.careeronestop.org/Toolkit/Careers/Occupations/occupation-profile.aspx?keyword=Preventive%20Medicine%20Physicians&location=US&lang=en&onetCode=29-1229.05\n",
    "74\tTutors\t36,680\tSome college, no degree\tBright\thttps://www.careeronestop.org/Toolkit/Careers/Occupations/occupation-profile.aspx?keyword=Tutors&location=US&lang=en&onetCode=25-3041.00\n",
    "75\tSchool Psychologists\t81,500\tMaster's degree\tAverage\thttps://www.careeronestop.org/Toolkit/Careers/Occupations/occupation-profile.aspx?keyword=School%20Psychologists&location=US&lang=en&onetCode=19-3034.00\n",
    "76\tClinical and Counseling Psychologists\t90,130\tDoctoral or professional degree\tBright\thttps://www.careeronestop.org/Toolkit/Careers/Occupations/occupation-profile.aspx?keyword=Clinical%20and%20Counseling%20Psychologists&location=US&lang=en&onetCode=19-3033.00\n",
    "77\tOccupational Therapy Assistants\t64,250\tAssociate's degree\tBright\thttps://www.careeronestop.org/Toolkit/Careers/Occupations/occupation-profile.aspx?keyword=Occupational%20Therapy%20Assistants&location=US&lang=en&onetCode=31-2011.00\n",
    "78\tDermatologists\t999,999\tDoctoral or professional degree\tBelow Average\thttps://www.careeronestop.org/Toolkit/Careers/Occupations/occupation-profile.aspx?keyword=Dermatologists&location=US&lang=en&onetCode=29-1213.00\n",
    "79\tNurse Anesthetists\t203,090\tMaster's degree\tBright\thttps://www.careeronestop.org/Toolkit/Careers/Occupations/occupation-profile.aspx?keyword=Nurse%20Anesthetists&location=US&lang=en&onetCode=29-1151.00\n",
    "80\tPodiatrists\t148,720\tDoctoral or professional degree\tBelow Average\thttps://www.careeronestop.org/Toolkit/Careers/Occupations/occupation-profile.aspx?keyword=Podiatrists&location=US&lang=en&onetCode=29-1081.00\n",
    "81\tForestry and Conservation Science Teachers, Postsecondary\t96,500\tDoctoral or professional degree\tBright\thttps://www.careeronestop.org/Toolkit/Careers/Occupations/occupation-profile.aspx?keyword=Forestry%20and%20Conservation%20Science%20Teachers%2C%20Postsecondary&location=US&lang=en&onetCode=25-1043.00\n",
    "82\tCustoms and Border Protection Officers\t65,790\tHigh school diploma or equivalent\tBelow Average\thttps://www.careeronestop.org/Toolkit/Careers/Occupations/occupation-profile.aspx?keyword=Customs%20and%20Border%20Protection%20Officers&location=US&lang=en&onetCode=33-3051.04\n",
    "83\tOccupational Health and Safety Specialists\t78,570\tBachelor's degree\tAverage\thttps://www.careeronestop.org/Toolkit/Careers/Occupations/occupation-profile.aspx?keyword=Occupational%20Health%20and%20Safety%20Specialists&location=US&lang=en&onetCode=19-5011.00\n",
    "84\tOphthalmic Medical Technologists\t44,990\tPostsecondary non-degree award\tAverage\thttps://www.careeronestop.org/Toolkit/Careers/Occupations/occupation-profile.aspx?keyword=Ophthalmic%20Medical%20Technologists&location=US&lang=en&onetCode=29-2099.05\n",
    "85\tFuneral Home Managers\t72,110\tAssociate's degree\tAverage\thttps://www.careeronestop.org/Toolkit/Careers/Occupations/occupation-profile.aspx?keyword=Funeral%20Home%20Managers&location=US&lang=en&onetCode=11-9171.00\n",
    "86\tPainters, Construction and Maintenance\t46,090\tNo formal educational credential\tBelow Average\thttps://www.careeronestop.org/Toolkit/Careers/Occupations/occupation-profile.aspx?keyword=Painters%2C%20Construction%20and%20Maintenance&location=US&lang=en&onetCode=47-2141.00\n",
    "87\tMedical Assistants\t38,270\tPostsecondary non-degree award\tBright\thttps://www.careeronestop.org/Toolkit/Careers/Occupations/occupation-profile.aspx?keyword=Medical%20Assistants&location=US&lang=en&onetCode=31-9092.00\n",
    "88\tTransit and Railroad Police\t69,150\tHigh school diploma or equivalent\tBelow Average\thttps://www.careeronestop.org/Toolkit/Careers/Occupations/occupation-profile.aspx?keyword=Transit%20and%20Railroad%20Police&location=US&lang=en&onetCode=33-3052.00\n",
    "89\tAthletic Trainers\t53,840\tMaster's degree\tBright\thttps://www.careeronestop.org/Toolkit/Careers/Occupations/occupation-profile.aspx?keyword=Athletic%20Trainers&location=US&lang=en&onetCode=29-9091.00\n",
    "90\tSustainability Specialists\t75,990\tBachelor's degree\tBright\thttps://www.careeronestop.org/Toolkit/Careers/Occupations/occupation-profile.aspx?keyword=Sustainability%20Specialists&location=US&lang=en&onetCode=13-1199.05\n",
    "91\tChefs and Head Cooks\t56,520\tHigh school diploma or equivalent\tBright\thttps://www.careeronestop.org/Toolkit/Careers/Occupations/occupation-profile.aspx?keyword=Chefs%20and%20Head%20Cooks&location=US&lang=en&onetCode=35-1011.00\n",
    "92\tSubstance Abuse and Behavioral Disorder Counselors\t49,710\tBachelor's degree\tBright\thttps://www.careeronestop.org/Toolkit/Careers/Occupations/occupation-profile.aspx?keyword=Substance%20Abuse%20and%20Behavioral%20Disorder%20Counselors&location=US&lang=en&onetCode=21-1011.00\n",
    "93\tNews Analysts, Reporters, and Journalists\t55,960\tBachelor's degree\tBelow Average\thttps://www.careeronestop.org/Toolkit/Careers/Occupations/occupation-profile.aspx?keyword=News%20Analysts%2C%20Reporters%2C%20and%20Journalists&location=US&lang=en&onetCode=27-3023.00\n",
    "94\tArchitecture Teachers, Postsecondary\t93,220\tDoctoral or professional degree\tBright\thttps://www.careeronestop.org/Toolkit/Careers/Occupations/occupation-profile.aspx?keyword=Architecture%20Teachers%2C%20Postsecondary&location=US&lang=en&onetCode=25-1031.00\n",
    "95\tCriminal Justice and Law Enforcement Teachers, Postsecondary\t64,990\tDoctoral or professional degree\tBright\thttps://www.careeronestop.org/Toolkit/Careers/Occupations/occupation-profile.aspx?keyword=Criminal%20Justice%20and%20Law%20Enforcement%20Teachers%2C%20Postsecondary&location=US&lang=en&onetCode=25-1111.00\n",
    "96\tFarm and Home Management Educators\t53,450\tMaster's degree\tBelow Average\thttps://www.careeronestop.org/Toolkit/Careers/Occupations/occupation-profile.aspx?keyword=Farm%20and%20Home%20Management%20Educators&location=US&lang=en&onetCode=25-9021.00\n",
    "97\tAnimal Control Workers\t39,320\tHigh school diploma or equivalent\tAverage\thttps://www.careeronestop.org/Toolkit/Careers/Occupations/occupation-profile.aspx?keyword=Animal%20Control%20Workers&location=US&lang=en&onetCode=33-9011.00\n",
    "98\tExercise Physiologists\t51,350\tBachelor's degree\tBright\thttps://www.careeronestop.org/Toolkit/Careers/Occupations/occupation-profile.aspx?keyword=Exercise%20Physiologists&location=US&lang=en&onetCode=29-1128.00\n",
    "99\tChild, Family, and School Social Workers\t50,820\tBachelor's degree\tBright\thttps://www.careeronestop.org/Toolkit/Careers/Occupations/occupation-profile.aspx?keyword=Child%2C%20Family%2C%20and%20School%20Social%20Workers&location=US&lang=en&onetCode=21-1021.00\n",
    "100\tSociology Teachers, Postsecondary\t78,970\tDoctoral or professional degree\tBright\thttps://www.careeronestop.org/Toolkit/Careers/Occupations/occupation-profile.aspx?keyword=Sociology%20Teachers%2C%20Postsecondary&location=US&lang=en&onetCode=25-1067.00\n",
    "101\tFamily Medicine Physicians\t211,300\tDoctoral or professional degree\tBelow Average\thttps://www.careeronestop.org/Toolkit/Careers/Occupations/occupation-profile.aspx?keyword=Family%20Medicine%20Physicians&location=US&lang=en&onetCode=29-1215.00\n",
    "102\tAcute Care Nurses\t81,220\tBachelor's degree\tBright\thttps://www.careeronestop.org/Toolkit/Careers/Occupations/occupation-profile.aspx?keyword=Acute%20Care%20Nurses&location=US&lang=en&onetCode=29-1141.01\n",
    "103\tSpecial Education Teachers, Middle School\t62,990\tBachelor's degree\tAverage\thttps://www.careeronestop.org/Toolkit/Careers/Occupations/occupation-profile.aspx?keyword=Special%20Education%20Teachers%2C%20Middle%20School&location=US&lang=en&onetCode=25-2057.00\n",
    "104\tLandscape Architects\t73,210\tBachelor's degree\tBelow Average\thttps://www.careeronestop.org/Toolkit/Careers/Occupations/occupation-profile.aspx?keyword=Landscape%20Architects&location=US&lang=en&onetCode=17-1012.00\n",
    "105\tFamily and Consumer Sciences Teachers, Postsecondary\t76,440\tDoctoral or professional degree\tAverage\thttps://www.careeronestop.org/Toolkit/Careers/Occupations/occupation-profile.aspx?keyword=Family%20and%20Consumer%20Sciences%20Teachers%2C%20Postsecondary&location=US&lang=en&onetCode=25-1192.00\n",
    "106\tForest Fire Inspectors and Prevention Specialists\t48,110\tHigh school diploma or equivalent\tBright\thttps://www.careeronestop.org/Toolkit/Careers/Occupations/occupation-profile.aspx?keyword=Forest%20Fire%20Inspectors%20and%20Prevention%20Specialists&location=US&lang=en&onetCode=33-2022.00\n",
    "107\tPatient Representatives\t44,990\tPostsecondary non-degree award\tAverage\thttps://www.careeronestop.org/Toolkit/Careers/Occupations/occupation-profile.aspx?keyword=Patient%20Representatives&location=US&lang=en&onetCode=29-2099.08\n",
    "108\tFuneral Attendants\t31,160\tHigh school diploma or equivalent\tBright\thttps://www.careeronestop.org/Toolkit/Careers/Occupations/occupation-profile.aspx?keyword=Funeral%20Attendants&location=US&lang=en&onetCode=39-4021.00\n",
    "109\tAdapted Physical Education Specialists\t63,950\tBachelor's degree\tAverage\thttps://www.careeronestop.org/Toolkit/Careers/Occupations/occupation-profile.aspx?keyword=Adapted%20Physical%20Education%20Specialists&location=US&lang=en&onetCode=25-2059.01\n",
    "110\tOccupational Therapy Aides\t37,060\tHigh school diploma or equivalent\tBright\thttps://www.careeronestop.org/Toolkit/Careers/Occupations/occupation-profile.aspx?keyword=Occupational%20Therapy%20Aides&location=US&lang=en&onetCode=31-2012.00\n",
    "111\tChief Sustainability Officers\t189,520\tBachelor's degree\tBelow Average\thttps://www.careeronestop.org/Toolkit/Careers/Occupations/occupation-profile.aspx?keyword=Chief%20Sustainability%20Officers&location=US&lang=en&onetCode=11-1011.03\n",
    "112\tFood Servers, Nonrestaurant\t30,300\tNo formal educational credential\tAverage\thttps://www.careeronestop.org/Toolkit/Careers/Occupations/occupation-profile.aspx?keyword=Food%20Servers%2C%20Nonrestaurant&location=US&lang=en&onetCode=35-3041.00\n",
    "113\tSocial Work Teachers, Postsecondary\t66,510\tDoctoral or professional degree\tBright\thttps://www.careeronestop.org/Toolkit/Careers/Occupations/occupation-profile.aspx?keyword=Social%20Work%20Teachers%2C%20Postsecondary&location=US&lang=en&onetCode=25-1113.00\n",
    "114\tPaperhangers\t44,930\tNo formal educational credential\tBelow Average\thttps://www.careeronestop.org/Toolkit/Careers/Occupations/occupation-profile.aspx?keyword=Paperhangers&location=US&lang=en&onetCode=47-2142.00\n",
    "115\tPolice and Sheriff's Patrol Officers\t65,790\tHigh school diploma or equivalent\tBelow Average\thttps://www.careeronestop.org/Toolkit/Careers/Occupations/occupation-profile.aspx?keyword=Police%20and%20Sheriff%27s%20Patrol%20Officers&location=US&lang=en&onetCode=33-3051.00\n",
    "116\tAudiologists\t82,680\tDoctoral or professional degree\tBright\thttps://www.careeronestop.org/Toolkit/Careers/Occupations/occupation-profile.aspx?keyword=Audiologists&location=US&lang=en&onetCode=29-1181.00\n",
    "117\tCommunications Teachers, Postsecondary\t76,250\tDoctoral or professional degree\tAverage\thttps://www.careeronestop.org/Toolkit/Careers/Occupations/occupation-profile.aspx?keyword=Communications%20Teachers%2C%20Postsecondary&location=US&lang=en&onetCode=25-1122.00\n",
    "118\tClergy\t55,550\tBachelor's degree\tAverage\thttps://www.careeronestop.org/Toolkit/Careers/Occupations/occupation-profile.aspx?keyword=Clergy&location=US&lang=en&onetCode=21-2011.00\n",
    "119\tLocker Room, Coatroom, and Dressing Room Attendants\t30,210\tHigh school diploma or equivalent\tBright\thttps://www.careeronestop.org/Toolkit/Careers/Occupations/occupation-profile.aspx?keyword=Locker%20Room%2C%20Coatroom%2C%20and%20Dressing%20Room%20Attendants&location=US&lang=en&onetCode=39-3093.00\n",
    "120\tFitness and Wellness Coordinators\t56,090\tHigh school diploma or equivalent\tBright\thttps://www.careeronestop.org/Toolkit/Careers/Occupations/occupation-profile.aspx?keyword=Fitness%20and%20Wellness%20Coordinators&location=US&lang=en&onetCode=11-9179.01\n",
    "121\tHealth and Safety Engineers, Except Mining Safety Engineers and Inspectors\t100,660\tBachelor's degree\tAverage\thttps://www.careeronestop.org/Toolkit/Careers/Occupations/occupation-profile.aspx?keyword=Health%20and%20Safety%20Engineers%2C%20Except%20Mining%20Safety%20Engineers%20and%20Inspectors&location=US&lang=en&onetCode=17-2111.00\n",
    "122\tAthletes and Sports Competitors\t94,270\tNo formal educational credential\tBright\thttps://www.careeronestop.org/Toolkit/Careers/Occupations/occupation-profile.aspx?keyword=Athletes%20and%20Sports%20Competitors&location=US&lang=en&onetCode=27-2021.00\n",
    "123\tDetectives and Criminal Investigators\t86,280\tHigh school diploma or equivalent\tBelow Average\thttps://www.careeronestop.org/Toolkit/Careers/Occupations/occupation-profile.aspx?keyword=Detectives%20and%20Criminal%20Investigators&location=US&lang=en&onetCode=33-3021.00\n",
    "124\tOphthalmologists, Except Pediatric\t219,810\tDoctoral or professional degree\tAverage\thttps://www.careeronestop.org/Toolkit/Careers/Occupations/occupation-profile.aspx?keyword=Ophthalmologists%2C%20Except%20Pediatric&location=US&lang=en&onetCode=29-1241.00\n",
    "125\tEducation Teachers, Postsecondary\t66,930\tDoctoral or professional degree\tBright\thttps://www.careeronestop.org/Toolkit/Careers/Occupations/occupation-profile.aspx?keyword=Education%20Teachers%2C%20Postsecondary&location=US&lang=en&onetCode=25-1081.00\n",
    "126\tDentists, General\t155,040\tDoctoral or professional degree\tAverage\thttps://www.careeronestop.org/Toolkit/Careers/Occupations/occupation-profile.aspx?keyword=Dentists%2C%20General&location=US&lang=en&onetCode=29-1021.00\n",
    "127\tGeographers\t88,900\tBachelor's degree\tBelow Average\thttps://www.careeronestop.org/Toolkit/Careers/Occupations/occupation-profile.aspx?keyword=Geographers&location=US&lang=en&onetCode=19-3092.00\n",
    "128\tEducation and Childcare Administrators, Preschool and Daycare\t49,690\tBachelor's degree\tBright\thttps://www.careeronestop.org/Toolkit/Careers/Occupations/occupation-profile.aspx?keyword=Education%20and%20Childcare%20Administrators%2C%20Preschool%20and%20Daycare&location=US&lang=en&onetCode=11-9031.00\n",
    "129\tEligibility Interviewers, Government Programs\t49,230\tHigh school diploma or equivalent\tBelow Average\thttps://www.careeronestop.org/Toolkit/Careers/Occupations/occupation-profile.aspx?keyword=Eligibility%20Interviewers%2C%20Government%20Programs&location=US&lang=en&onetCode=43-4061.00\n",
    "130\tAnimal Trainers\t35,620\tHigh school diploma or equivalent\tBright\thttps://www.careeronestop.org/Toolkit/Careers/Occupations/occupation-profile.aspx?keyword=Animal%20Trainers&location=US&lang=en&onetCode=39-2011.00\n",
    "131\tRehabilitation Counselors\t39,990\tMaster's degree\tBright\thttps://www.careeronestop.org/Toolkit/Careers/Occupations/occupation-profile.aspx?keyword=Rehabilitation%20Counselors&location=US&lang=en&onetCode=21-1015.00\n",
    "132\tTour Guides and Escorts\t34,440\tHigh school diploma or equivalent\tBright\thttps://www.careeronestop.org/Toolkit/Careers/Occupations/occupation-profile.aspx?keyword=Tour%20Guides%20and%20Escorts&location=US&lang=en&onetCode=39-7011.00\n",
    "133\tOphthalmic Medical Technicians\t38,860\tPostsecondary non-degree award\tBright\thttps://www.careeronestop.org/Toolkit/Careers/Occupations/occupation-profile.aspx?keyword=Ophthalmic%20Medical%20Technicians&location=US&lang=en&onetCode=29-2057.00\n",
    "134\tFurnace, Kiln, Oven, Drier, and Kettle Operators and Tenders\t44,530\tHigh school diploma or equivalent\tBelow Average\thttps://www.careeronestop.org/Toolkit/Careers/Occupations/occupation-profile.aspx?keyword=Furnace%2C%20Kiln%2C%20Oven%2C%20Drier%2C%20and%20Kettle%20Operators%20and%20Tenders&location=US&lang=en&onetCode=51-9051.00\n",
    "135\tHearing Aid Specialists\t59,020\tHigh school diploma or equivalent\tBright\thttps://www.careeronestop.org/Toolkit/Careers/Occupations/occupation-profile.aspx?keyword=Hearing%20Aid%20Specialists&location=US&lang=en&onetCode=29-2092.00\n",
    "136\tChemistry Teachers, Postsecondary\t80,720\tDoctoral or professional degree\tBright\thttps://www.careeronestop.org/Toolkit/Careers/Occupations/occupation-profile.aspx?keyword=Chemistry%20Teachers%2C%20Postsecondary&location=US&lang=en&onetCode=25-1052.00\n",
    "137\tPoets, Lyricists and Creative Writers\t73,150\tBachelor's degree\tAverage\thttps://www.careeronestop.org/Toolkit/Careers/Occupations/occupation-profile.aspx?keyword=Poets%2C%20Lyricists%20and%20Creative%20Writers&location=US&lang=en&onetCode=27-3043.05\n",
    "138\tPark Naturalists\t64,460\tBachelor's degree\tBelow Average\thttps://www.careeronestop.org/Toolkit/Careers/Occupations/occupation-profile.aspx?keyword=Park%20Naturalists&location=US&lang=en&onetCode=19-1031.03\n",
    "139\tCareer/Technical Education Teachers, Postsecondary\t59,840\tBachelor's degree\tBelow Average\thttps://www.careeronestop.org/Toolkit/Careers/Occupations/occupation-profile.aspx?keyword=Career/Technical%20Education%20Teachers%2C%20Postsecondary&location=US&lang=en&onetCode=25-1194.00\n",
    "140\tSurgical Assistants\t57,290\tPostsecondary non-degree award\tAverage\thttps://www.careeronestop.org/Toolkit/Careers/Occupations/occupation-profile.aspx?keyword=Surgical%20Assistants&location=US&lang=en&onetCode=29-9093.00\n",
    "141\tVeterinary Assistants and Laboratory Animal Caretakers\t34,740\tHigh school diploma or equivalent\tBright\thttps://www.careeronestop.org/Toolkit/Careers/Occupations/occupation-profile.aspx?keyword=Veterinary%20Assistants%20and%20Laboratory%20Animal%20Caretakers&location=US&lang=en&onetCode=31-9096.00\n",
    "142\tDietetic Technicians\t33,960\tAssociate's degree\tAverage\thttps://www.careeronestop.org/Toolkit/Careers/Occupations/occupation-profile.aspx?keyword=Dietetic%20Technicians&location=US&lang=en&onetCode=29-2051.00\n",
    "143\tLicensed Practical and Licensed Vocational Nurses\t54,620\tPostsecondary non-degree award\tAverage\thttps://www.careeronestop.org/Toolkit/Careers/Occupations/occupation-profile.aspx?keyword=Licensed%20Practical%20and%20Licensed%20Vocational%20Nurses&location=US&lang=en&onetCode=29-2061.00\n",
    "144\tOrthoptists\t106,230\tMaster's degree\tBelow Average\thttps://www.careeronestop.org/Toolkit/Careers/Occupations/occupation-profile.aspx?keyword=Orthoptists&location=US&lang=en&onetCode=29-1299.02\n",
    "145\tAmbulance Drivers and Attendants, Except Emergency Medical Technicians\t30,380\tHigh school diploma or equivalent\tBelow Average\thttps://www.careeronestop.org/Toolkit/Careers/Occupations/occupation-profile.aspx?keyword=Ambulance%20Drivers%20and%20Attendants%2C%20Except%20Emergency%20Medical%20Technicians&location=US&lang=en&onetCode=53-3011.00\n",
    "146\tElementary School Teachers, Except Special Education\t61,690\tBachelor's degree\tBright\thttps://www.careeronestop.org/Toolkit/Careers/Occupations/occupation-profile.aspx?keyword=Elementary%20School%20Teachers%2C%20Except%20Special%20Education&location=US&lang=en&onetCode=25-2021.00\n",
    "147\tAgricultural Technicians\t41,760\tAssociate's degree\tBright\thttps://www.careeronestop.org/Toolkit/Careers/Occupations/occupation-profile.aspx?keyword=Agricultural%20Technicians&location=US&lang=en&onetCode=19-4012.00\n",
    "148\tLibrary Science Teachers, Postsecondary\t76,370\tDoctoral or professional degree\tBright\thttps://www.careeronestop.org/Toolkit/Careers/Occupations/occupation-profile.aspx?keyword=Library%20Science%20Teachers%2C%20Postsecondary&location=US&lang=en&onetCode=25-1082.00\n",
    "149\tDirectors, Religious Activities and Education\t49,380\tBachelor's degree\tAverage\thttps://www.careeronestop.org/Toolkit/Careers/Occupations/occupation-profile.aspx?keyword=Directors%2C%20Religious%20Activities%20and%20Education&location=US&lang=en&onetCode=21-2021.00\n",
    "150\tFirst-Line Supervisors of Correctional Officers\t63,310\tHigh school diploma or equivalent\tBelow Average\thttps://www.careeronestop.org/Toolkit/Careers/Occupations/occupation-profile.aspx?keyword=First-Line%20Supervisors%20of%20Correctional%20Officers&location=US&lang=en&onetCode=33-1011.00"
   ]
  },
  {
   "cell_type": "markdown",
   "id": "5fb2d7b5-683f-4aa4-9cba-6483517f3632",
   "metadata": {},
   "source": [
    "# The End"
   ]
  }
 ],
 "metadata": {
  "kernelspec": {
   "display_name": "Python 3 (ipykernel)",
   "language": "python",
   "name": "python3"
  },
  "language_info": {
   "codemirror_mode": {
    "name": "ipython",
    "version": 3
   },
   "file_extension": ".py",
   "mimetype": "text/x-python",
   "name": "python",
   "nbconvert_exporter": "python",
   "pygments_lexer": "ipython3",
   "version": "3.10.13"
  }
 },
 "nbformat": 4,
 "nbformat_minor": 5
}
