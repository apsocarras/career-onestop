{
 "cells": [
  {
   "cell_type": "markdown",
   "metadata": {},
   "source": [
    "### Non-API workflow (deprecated)\n",
    "\n",
    "This workflow only would work for Architecture v1 (see README)."
   ]
  },
  {
   "cell_type": "markdown",
   "metadata": {},
   "source": [
    "- [] Export/retrieve survey answers as excel (no JSON support)\n",
    "- [] Cloud Function: \n",
    "    * *Drop file into cloud storage*\n",
    "    * *Trigger Serverless function*\n",
    "        * Read excel file \n",
    "        * Translate to career onestop JSON format \n",
    "        * Send JSON in request to career onestop\n",
    "        * Retrieve results from career onestop \n",
    "        * Send email to user provided address"
   ]
  },
  {
   "cell_type": "code",
   "execution_count": null,
   "metadata": {
    "vscode": {
     "languageId": "plaintext"
    }
   },
   "outputs": [],
   "source": [
    "#### \"Exporting\" Survey Response (Create Mock Excel File)\n",
    "\n",
    "Kamran took the survey I created. I can't actually export his answers because that's a paid feature but based on the [documentation](https://help.surveymonkey.com/en/surveymonkey/analyze/xls-exports/) we have a good idea of what the exported xlsx (only option besides PDF...) will look like. I have to manually export his response values from this...\n",
    "\n",
    "![img](img/sm_survey_example_q.png)\n"
   ]
  },
  {
   "cell_type": "code",
   "execution_count": null,
   "metadata": {
    "vscode": {
     "languageId": "plaintext"
    }
   },
   "outputs": [],
   "source": [
    "## Making mock export xlsx, manually entering his answers into excel sheet\n",
    "\n",
    "# Get the content of the export from documentation\n",
    "import pandas as pd \n",
    "doc_table = pd.read_html(\"https://help.surveymonkey.com/en/surveymonkey/analyze/xls-exports/\")[0]\n",
    "\n",
    "df = doc_table \\\n",
    "    .transpose() \\\n",
    "    .iloc[:,1:]\n",
    "df.columns = df.iloc[0,:] \n",
    "\n",
    "df.drop(index=0, axis=0, inplace=True)\n",
    "\n",
    "display(df.transpose())\n",
    "\n",
    "# Making up time data to paste into the excel sheet as well\n",
    "import datetime as dt \n",
    "start = dt.datetime.now()\n",
    "start_str = dt.datetime.strftime(start, \"%Y-%m-%d %X\")\n",
    "end_str = dt.datetime.strftime(start + dt.timedelta(minutes=5), \"%Y-%m-%d %X\")\n",
    "start_str, end_str"
   ]
  },
  {
   "cell_type": "code",
   "execution_count": null,
   "metadata": {
    "vscode": {
     "languageId": "plaintext"
    }
   },
   "outputs": [],
   "source": [
    "# After manually copy-pasting into excel file:\n",
    "df = pd.read_excel('data/mock_export.xlsx').iloc[:,1:]\n",
    "survey_answers = df.iloc[:,4:]\n",
    "survey_answers\n"
   ]
  },
  {
   "cell_type": "code",
   "execution_count": null,
   "metadata": {
    "vscode": {
     "languageId": "plaintext"
    }
   },
   "outputs": [],
   "source": [
    "# Translate our answer dictionary to the below format \n",
    "with open(os.path.join(\"data\",\"get-skills-api\",\"response.json\"), \"r\") as file:\n",
    "  co_survey_questions = json.load(file)['Skills']\n",
    "co_survey_questions"
   ]
  },
  {
   "cell_type": "code",
   "execution_count": null,
   "metadata": {
    "vscode": {
     "languageId": "plaintext"
    }
   },
   "outputs": [],
   "source": [
    "import os\n",
    "import json \n",
    "import random\n",
    "\n",
    "with open(os.path.join(\"data\", \"skills-submit-api\", \"example-request.json\"), \"r\") as file:\n",
    "  example_request = json.load(file)\n",
    "print(len(example_request['SKAValueList']))\n",
    "\n",
    "# Fill out our survey with rest of questions/answers (40 in total for Skills Matcher;  SM limited by free trial)\n",
    "random_answers = [random.randint(1,5) for _ in range(30)]\n",
    "random_answers_df = pd.DataFrame({f\"Question {n+11}\": [random_answers[n]] for n in range(30)}) \n",
    "random_answers_df\n",
    "\n",
    "# join to Kamran's \n",
    "survey_answers_added = pd.concat([survey_answers, random_answers_df], axis=1)\n",
    "survey_answers_added"
   ]
  },
  {
   "cell_type": "code",
   "execution_count": null,
   "metadata": {
    "vscode": {
     "languageId": "plaintext"
    }
   },
   "outputs": [],
   "source": [
    "## Shouldn't assume pandas will work in a serverless function (it's a large dependency)\n",
    "from openpyxl import load_workbook\n",
    "\n",
    "def excel_to_dict(filename, random_answers):\n",
    "\n",
    "    ## Replace this in cloud version with reading from cloud storage bucket \n",
    "    workbook = load_workbook(filename)\n",
    "    worksheet = workbook.worksheets[0]\n",
    "\n",
    "        # check for unexpected file name \n",
    "\n",
    "    ## Reading logic/error catching will vary based on what SM export looks like\n",
    "    cols = [col.value for col in list(worksheet.rows)[0]][1:] # first row is column\n",
    "    rows = [row.value for row in list(worksheet.rows)[1]][1:]\n",
    "\n",
    "        # check for nans, unexpected file structure, len(cols) != len(rows)\n",
    "  \n",
    "    # Obviously wouldn't actually extend random answers in production\n",
    "    cols = list(cols) + [f\"Question {n+11}\" for n in range(30)]\n",
    "    rows = list(rows) + random_answers\n",
    "\n",
    "    # Return Dict \n",
    "    excel_dict = {\"question_map\":[]} # we don't need to translate respondent ID, name, collector id, start date, or end date  \n",
    "    for n in range(len(cols)):\n",
    "        if \"question|?\" not in cols[n].lower(): # could also \n",
    "            excel_dict[cols[n]] = rows[n]\n",
    "        else: \n",
    "            excel_dict[\"question_map\"].append({\"qn\":1, \"sm_question\":cols[n],\"sm_answer\":rows[n]}) \n",
    "        \n",
    "    # return dict(zip(cols, rows))\n",
    "    return excel_dict\n",
    "\n",
    "data = excel_to_dict(\"data/mock_export.xlsx\", [random.randint(1,5) for _ in range(30)])\n",
    "data"
   ]
  },
  {
   "cell_type": "code",
   "execution_count": null,
   "metadata": {
    "vscode": {
     "languageId": "plaintext"
    }
   },
   "outputs": [],
   "source": [
    "\n",
    "def translate_excel_dict(data):\n",
    "    data_copy = data.copy()\n",
    "    answer_map = { \n",
    "            1: \"DataPoint20\",\n",
    "            2: \"DataPoint35\",\n",
    "            3: \"DataPoint50\",\n",
    "            4: \"DataPoint65\",\n",
    "            5: \"DataPoint80\"\n",
    "        }\n",
    "    \n",
    "    question_map = {\n",
    "            \"Question 1\": \"2.C.1.a\",\n",
    "            \"Question 2\": \"2.C.4.d\",\n",
    "            \"Question 3\": \"1.A.3.c.3\",\n",
    "            \"Question 4\": \"2.C.3.d\",\n",
    "            \"Question 5\": \"2.C.4.c\",\n",
    "            \"Question 6\": \"2.C.1.b\",\n",
    "            \"Question 7\": \"2.B.2.i\",\n",
    "            \"Question 8\": \"2.C.3.a\",\n",
    "            \"Question 9\": \"2.C.1.e\",\n",
    "            \"Question 10\": \"2.C.1.c\",\n",
    "            \"Question 11\": \"2.C.7.c\",\n",
    "            \"Question 12\": \"2.C.7.b\",\n",
    "            \"Question 13\": \"2.B.1.f\",\n",
    "            \"Question 14\": \"2.B.1.e\",\n",
    "            \"Question 15\": \"2.B.5.b\",\n",
    "            \"Question 16\": \"2.A.1.e\",\n",
    "            \"Question 17\": \"2.C.3.e\",\n",
    "            \"Question 18\": \"2.C.5.a\",\n",
    "            \"Question 19\": \"1.A.1.d.1\",\n",
    "            \"Question 20\": \"2.A.2.d\",\n",
    "            \"Question 21\": \"2.B.1.d\",\n",
    "            \"Question 22\": \"2.B.3.a\",\n",
    "            \"Question 23\": \"2.C.1.f\",\n",
    "            \"Question 24\": \"2.C.2.a\",\n",
    "            \"Question 25\": \"2.B.3.e\",\n",
    "            \"Question 26\": \"2.C.4.e\",\n",
    "            \"Question 27\": \"2.C.8.a\",\n",
    "            \"Question 28\": \"2.B.3.m\",\n",
    "            \"Question 29\": \"2.B.3.l\",\n",
    "            \"Question 30\": \"2.C.1.d\",\n",
    "            \"Question 31\": \"2.A.1.f\",\n",
    "            \"Question 32\": \"2.C.4.f\",\n",
    "            \"Question 33\": \"2.A.1.d\",\n",
    "            \"Question 34\": \"2.B.4.g\",\n",
    "            \"Question 35\": \"2.C.6\",\n",
    "            \"Question 36\": \"2.C.9.a\",\n",
    "            \"Question 37\": \"2.C.5.b\",\n",
    "            \"Question 38\": \"2.B.5.a\",\n",
    "            \"Question 39\": \"2.B.3.k\",\n",
    "            \"Question 40\": \"2.A.1.c\"\n",
    "        }\n",
    "    \n",
    "\n",
    "    # See the excel dict in the above cell to better understand this part  \n",
    "    for sm_question, co_question in question_map.items():\n",
    "        # Swap answers \n",
    "        sm_answer = data_copy[sm_question] # get old SM answer from input excel_dict\n",
    "        co_answer = answer_map[sm_answer] # use map to translate to new CO readable answer\n",
    "\n",
    "        # Swap questions\n",
    "        data_copy[co_question] = data_copy.pop(sm_question) # .pop(key) 1.) removes old question:answer pair 2.) returns old key value   \n",
    "        data_copy[co_question] = \n",
    "\n",
    "        \n",
    "        \n",
    "    return data"
   ]
  }
 ],
 "metadata": {
  "language_info": {
   "name": "python"
  },
  "orig_nbformat": 4
 },
 "nbformat": 4,
 "nbformat_minor": 2
}
