{
 "cells": [
  {
   "cell_type": "code",
   "execution_count": null,
   "metadata": {},
   "outputs": [],
   "source": [
    "import pandas as pd"
   ]
  },
  {
   "cell_type": "markdown",
   "metadata": {},
   "source": [
    "## **Presentation Outline**\n",
    " \n",
    "[Link](https://docs.google.com/presentation/d/1HSTv5NgdKBrXRzOEiITktw4wbaG_nAib/edit?usp=sharing&ouid=107908789910623442905&rtpof=true&sd=true)"
   ]
  },
  {
   "cell_type": "markdown",
   "metadata": {},
   "source": [
    "#### **Respondent Demographics**\n",
    "* Age \n",
    "* Race \n",
    "* Geography \n"
   ]
  },
  {
   "cell_type": "markdown",
   "metadata": {},
   "source": [
    "#### **Respondent Educational History**\n",
    "* Highest educational attainment \n",
    "    * By geography, race, age \n",
    "* Training Experience\n",
    "    * How many participated in trainings\n",
    "    * By topic \n",
    "    * Feedback \n"
   ]
  },
  {
   "cell_type": "markdown",
   "metadata": {},
   "source": [
    "#### **Respondent Employment Status**\n",
    "\n",
    "* Current status (employed/unemployed)\n",
    "    * By geography, age, educational attainment \n",
    "* Job Type \n",
    "    * By geography, age, educatinoal attainment\n",
    "    "
   ]
  },
  {
   "cell_type": "markdown",
   "metadata": {},
   "source": [
    "#### **Respondent Employment History**\n",
    "\n",
    "* By geography \n",
    "* By type of job "
   ]
  },
  {
   "cell_type": "markdown",
   "metadata": {},
   "source": [
    "#### **Respondent Training Experience**\n",
    "\n",
    "* By geography \n",
    "* By educational attainment \n",
    "* By current job "
   ]
  },
  {
   "cell_type": "markdown",
   "metadata": {},
   "source": [
    "#### **Respondent Unemployment Benefits**\n",
    "\n",
    "* Reasons for not applying (people currently unemployed)\n"
   ]
  },
  {
   "cell_type": "markdown",
   "metadata": {},
   "source": [
    "#### **Job Search Tools and Trends**\n",
    "\n",
    "* trends by ideal job type"
   ]
  },
  {
   "cell_type": "markdown",
   "metadata": {},
   "source": [
    "#### **Respondent Ideal Employment**\n",
    "\n",
    "* By education \n",
    "* By training experience \n",
    "* By training desire \n",
    "* By current job type "
   ]
  },
  {
   "cell_type": "markdown",
   "metadata": {},
   "source": [
    "#### **Respondent Barriers to Employment**\n",
    "* by education \n",
    "* by geography \n",
    "* by ideal job type \n"
   ]
  },
  {
   "cell_type": "markdown",
   "metadata": {},
   "source": [
    "#### **Skills Area Strengths**\n",
    "* by education\n",
    "* by ideal job \n",
    "* by training experience\n",
    "* by training desires \n"
   ]
  },
  {
   "cell_type": "markdown",
   "metadata": {},
   "source": [
    "#### **Skills Area Gaps**\n",
    "* by education\n",
    "* by ideal job \n",
    "* by training experience\n",
    "* by training desires \n"
   ]
  }
 ],
 "metadata": {
  "kernelspec": {
   "display_name": "venv",
   "language": "python",
   "name": "python3"
  },
  "language_info": {
   "name": "python",
   "version": "3.8.18"
  }
 },
 "nbformat": 4,
 "nbformat_minor": 2
}
