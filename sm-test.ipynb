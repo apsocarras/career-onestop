{
 "cells": [
  {
   "cell_type": "markdown",
   "metadata": {},
   "source": [
    "1. Create a demo copy of the survey in SurveyMonkey for development and testing. \n",
    "\n",
    "2. Test the SurveyMonkey API.\n",
    "\n",
    "3. Create Flask Web App.\n",
    "\n",
    "---"
   ]
  },
  {
   "cell_type": "markdown",
   "metadata": {},
   "source": [
    "#### 1. **Create a demo survey**\n",
    "\n",
    "We created a demo survey in SurveyMonkey by copy-pasting questions and answers into the survey creation box: \n"
   ]
  },
  {
   "cell_type": "code",
   "execution_count": null,
   "metadata": {},
   "outputs": [],
   "source": [
    "import os\n",
    "import json\n",
    "import pandas as pd \n",
    "\n",
    "# Create matching survey in SM: import through text import (limited to 10 questions for free account)\n",
    "with open(os.path.join(\"data\",\"get-skills-api\",\"response.json\"), \"r\") as file: # previously extracted with API Explorer\n",
    "    survey_questions = json.load(file)['Skills']\n",
    "\n",
    "skill_level_map = { \n",
    "  \"DataPoint20\": \"Beginner\",\n",
    "  \"DataPoint35\": \"Basic\",\n",
    "  \"DataPoint50\": \"Skilled\",\n",
    "  \"DataPoint65\": \"Advanced\",\n",
    "  \"DataPoint80\": \"Expert\"\n",
    "}\n",
    "\n",
    "for q in survey_questions:\n",
    "  for k,v in skill_level_map.items():\n",
    "    q[v] = q.pop(k)\n",
    "\n",
    "# Test format for copy pasting into SM web console\n",
    "with open(\"survey-question-port.txt\", \"w\") as file:\n",
    "  for q in survey_questions[:9]:\n",
    "    file.write(f\"{q['ElementName']}: {q['Question']}\\n\")\n",
    "    file.write(f\"1 - Beginner: {q['AnchorFirst']}\\n\")\n",
    "    file.write(\"2\\n\")\n",
    "    file.write(f\"3 - Skilled: {q['AnchorThrid']}\\n\")\n",
    "    file.write(\"4\\n\")\n",
    "    file.write(f\"5 - Expert: {q['AnchorLast']}\\n\")\n",
    "    file.write(\"\\n\")"
   ]
  },
  {
   "cell_type": "markdown",
   "metadata": {},
   "source": [
    "![create-survey](img/create-survey.png)"
   ]
  },
  {
   "cell_type": "markdown",
   "metadata": {},
   "source": [
    "#### 2. **Testing Survey Monkey API**"
   ]
  },
  {
   "cell_type": "markdown",
   "metadata": {},
   "source": [
    "1. [] Register draft app (public for test, private requires enterprise license)\n",
    "2. [] create website to host app\n",
    "3. [] set up [oauth redirect](https://developer.surveymonkey.com/api/v3/#authentication) to app from host site \n",
    "\n",
    "**Step 1:** Send the user whose SurveyMonkey account you wish to access to a specially crafted OAuth link. The page presented to the user will identify your app, ask them to log into SurveyMonkey if they aren’t already, and ask them to authorize any required scopes.\n",
    "\n",
    "The OAuth link should be https://api.surveymonkey.com/oauth/authorize with urlencoded parameters: redirect_uri, client_id, response_type and state.\n",
    "\n",
    "* \"response_type\"=\"code\" (always, hardcoded value)\n",
    "* \"client_id\"=unique client id you got when registering your app\n",
    "* \"redirect_uri\"=URL encoded OAuth redirect URI you registered for your app\n",
    "* \"state\" (recommended)=A value included in the request that will also be returned in the token response. It can be a string of any content that you wish. A randomly generated unique value is typically used for preventing cross-site request forgery attacks.*\n",
    "\n",
    "e.g. `https://api.surveymonkey.com/oauth/authorize?response_type=code&redirect_uri=https%3A%2F%2Fapi.surveymonkey.com%2Fapi_console%2Foauth2callback&client_id=SurveyMonkeyApiConsole%2Fstate=uniquestring`"
   ]
  },
  {
   "cell_type": "code",
   "execution_count": 9,
   "metadata": {},
   "outputs": [
    {
     "name": "stdout",
     "output_type": "stream",
     "text": [
      "code http://127.0.0.1:5000/auth/callback C_44TfLERSi0kXy-tS2snQ\n"
     ]
    },
    {
     "data": {
      "text/plain": [
       "'https://api.surveymonkey.com/oauth/authorize?response_type=code&redirect_uri=http%3A%2F%2F127.0.0.1%3A5000%2Fauth%2Fcallback&client_id=C_44TfLERSi0kXy-tS2snQ'"
      ]
     },
     "execution_count": 9,
     "metadata": {},
     "output_type": "execute_result"
    }
   ],
   "source": [
    "import yaml \n",
    "from urllib.parse import urlencode\n",
    "\n",
    "oauth_link = \"https://api.surveymonkey.com/oauth/authorize\"\n",
    "\n",
    "with open(\"api-key.yaml\",\"r\") as file:\n",
    "    api_info = yaml.full_load(file)\n",
    "\n",
    "RESPONSE_TYPE = \"code\"\n",
    "REDIRECT_URI = \"http://localhost:5000/auth/callback\" # for local test\n",
    "CLIENT_ID = api_info['sm']['app']['client-id']\n",
    "# SECRET = api_info['sm']['app']['secret']\n",
    "# ACCESS_TOKEN = api_info['sm']['app']['access_token']\n",
    "print(RESPONSE_TYPE, REDIRECT_URI, CLIENT_ID)\n",
    "params = {\n",
    "    'response_type': RESPONSE_TYPE, \n",
    "    'redirect_uri': REDIRECT_URI, \n",
    "    'client_id': CLIENT_ID\n",
    "}\n",
    "\n",
    "full_oauth_link = f\"{oauth_link}?{urlencode(params)}\"\n",
    "full_oauth_link"
   ]
  }
 ],
 "metadata": {
  "kernelspec": {
   "display_name": "venv",
   "language": "python",
   "name": "python3"
  },
  "language_info": {
   "codemirror_mode": {
    "name": "ipython",
    "version": 3
   },
   "file_extension": ".py",
   "mimetype": "text/x-python",
   "name": "python",
   "nbconvert_exporter": "python",
   "pygments_lexer": "ipython3",
   "version": "3.9.6"
  },
  "orig_nbformat": 4
 },
 "nbformat": 4,
 "nbformat_minor": 2
}
