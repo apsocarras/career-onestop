{
 "cells": [
  {
   "cell_type": "code",
   "execution_count": 2,
   "metadata": {},
   "outputs": [
    {
     "name": "stderr",
     "output_type": "stream",
     "text": [
      "/Users/alexsocarras/tech_impact/career-onestop/venv/lib/python3.9/site-packages/urllib3/__init__.py:34: NotOpenSSLWarning: urllib3 v2.0 only supports OpenSSL 1.1.1+, currently the 'ssl' module is compiled with 'LibreSSL 2.8.3'. See: https://github.com/urllib3/urllib3/issues/3020\n",
      "  warnings.warn(\n"
     ]
    }
   ],
   "source": [
    "import json\n",
    "import os \n",
    "import requests \n",
    "import pandas as pd "
   ]
  },
  {
   "cell_type": "markdown",
   "metadata": {},
   "source": [
    "1. Create a demo copy of the survey in SurveyMonkey for development and testing. \n",
    "\n",
    "2. Test the SurveyMonkey API\n",
    "\n",
    "- [x] Retrieve question/answers key from SurveyMonkey survey \n",
    "- [x] Combine with COS question/answer key to form a complete translation map \n",
    "- [x] Retrieve list of responses to SM survey \n",
    "- [x] Use map to translate survey responses to COS request objects  \n",
    "\n",
    "3. Create Flask Web App based off this process.\n",
    "\n",
    "---"
   ]
  },
  {
   "cell_type": "markdown",
   "metadata": {},
   "source": [
    "#### 1. **Create a demo survey**\n",
    "\n",
    "I created a demo survey in SurveyMonkey by copy-pasting questions and answers into the survey creation box: \n"
   ]
  },
  {
   "cell_type": "code",
   "execution_count": null,
   "metadata": {},
   "outputs": [],
   "source": [
    "import os\n",
    "import json\n",
    "import pandas as pd \n",
    "\n",
    "# Create matching survey in SM: import through text import (limited to 10 questions for free account)\n",
    "with open(os.path.join(\"data\",\"get-skills-api\",\"response.json\"), \"r\") as file: # previously extracted with API Explorer\n",
    "    survey_questions = json.load(file)['Skills']\n",
    "\n",
    "skill_level_map = { \n",
    "  \"DataPoint20\": \"Beginner\",\n",
    "  \"DataPoint35\": \"Basic\",\n",
    "  \"DataPoint50\": \"Skilled\",\n",
    "  \"DataPoint65\": \"Advanced\",\n",
    "  \"DataPoint80\": \"Expert\"\n",
    "}\n",
    "\n",
    "for q in survey_questions:\n",
    "  for k,v in skill_level_map.items():\n",
    "    q[v] = q.pop(k)\n",
    "\n",
    "# Test format for copy pasting into SM web console\n",
    "with open(\"survey-question-port.txt\", \"w\") as file:\n",
    "  for q in survey_questions[:9]:\n",
    "    file.write(f\"{q['ElementName']}: {q['Question']}\\n\")\n",
    "    file.write(f\"1 - Beginner: {q['AnchorFirst']}\\n\")\n",
    "    file.write(\"2\\n\")\n",
    "    file.write(f\"3 - Skilled: {q['AnchorThrid']}\\n\")\n",
    "    file.write(\"4\\n\")\n",
    "    file.write(f\"5 - Expert: {q['AnchorLast']}\\n\")\n",
    "    file.write(\"\\n\")"
   ]
  },
  {
   "cell_type": "markdown",
   "metadata": {},
   "source": [
    "![create-survey](img/create-survey.png)"
   ]
  },
  {
   "cell_type": "markdown",
   "metadata": {},
   "source": [
    "Kamran took this survey -- I am using his responses for testing purposes. "
   ]
  },
  {
   "cell_type": "markdown",
   "metadata": {},
   "source": [
    "#### 2. **Testing Survey Monkey API**\n",
    "\n",
    "\n",
    "-  Retrieve question/answer key from SurveyMonkey survey \n",
    "- Retrieve list of responses to SM survey \n",
    "\n",
    "#### Private App/self log-in\n",
    "\n",
    "We may not need to have multiple SurveyMonkey accounts accessing our SurveyMonkey app. The only account we would need in such case would be the account we used to make the survey. If so, we can simply use the access token generated when we registered the app whenever we make our API calls: \n"
   ]
  },
  {
   "cell_type": "code",
   "execution_count": 17,
   "metadata": {},
   "outputs": [],
   "source": [
    "import requests \n",
    "import yaml \n",
    "import json\n",
    "\n",
    "BASE_URL = 'https://api.surveymonkey.com/v3'\n",
    "\n",
    "# Avoid Oauth 2.0 setup and temporary long-term credential creation for now \n",
    "with open(\"api-key.yaml\", \"r\") as file:\n",
    "     access_token = yaml.full_load(file)['sm']['app']['access-token']\n",
    "\n",
    "headers = {\n",
    "    'Authorization': f'Bearer {access_token}'\n",
    "}\n",
    "\n",
    "response = requests.get(f'{BASE_URL}/surveys', headers=headers)\n",
    "response = response.json()"
   ]
  },
  {
   "cell_type": "code",
   "execution_count": 18,
   "metadata": {},
   "outputs": [
    {
     "data": {
      "text/plain": [
       "{'data': [{'id': '409346397',\n",
       "   'title': 'Career Onestop Port',\n",
       "   'nickname': '',\n",
       "   'href': 'https://api.surveymonkey.com/v3/surveys/409346397'}],\n",
       " 'per_page': 50,\n",
       " 'page': 1,\n",
       " 'total': 1,\n",
       " 'links': {'self': 'https://api.surveymonkey.com/v3/surveys?per_page=50&page=1'}}"
      ]
     },
     "execution_count": 18,
     "metadata": {},
     "output_type": "execute_result"
    }
   ],
   "source": [
    "response"
   ]
  },
  {
   "cell_type": "code",
   "execution_count": 30,
   "metadata": {},
   "outputs": [],
   "source": [
    "# Set survey id -- all calls will be made to /surveys/{SURVEY_ID}/ endpoint\n",
    "SURVEY_ID = '409346397'\n",
    "# SURVEY_ID = response['data'][0]['id']\n",
    "SURVEY_ENDPOINT = f\"{BASE_URL}/surveys/{SURVEY_ID}\""
   ]
  },
  {
   "cell_type": "markdown",
   "metadata": {},
   "source": [
    "##### **Get SM Question/Answer Key**"
   ]
  },
  {
   "cell_type": "code",
   "execution_count": 368,
   "metadata": {},
   "outputs": [
    {
     "name": "stdout",
     "output_type": "stream",
     "text": [
      "{'id': '151230949', 'position': 1, 'visible': True, 'family': 'open_ended', 'subtype': 'single', 'layout': {'left_spacing': 0, 'top_spacing': 0, 'right_spacing': 0, 'bottom_spacing': 0, 'width_format': None, 'width': None, 'col_width_format': None, 'col_width': None, 'position': 'new_row', 'num_chars': 100, 'num_lines': 3}, 'sorting': None, 'required': None, 'validation': {'type': 'email', 'text': 'Please enter a valid email address.', 'max': None, 'min': None, 'sum': None, 'sum_text': ''}, 'forced_ranking': False, 'headings': [{'heading': 'At what email address would you like to be contacted?'}], 'href': 'https://api.surveymonkey.com/v3/surveys/409346397/pages/45350810/questions/151230949'}\n",
      "{'id': '150768414', 'position': 2, 'visible': True, 'family': 'single_choice', 'subtype': 'vertical', 'layout': None, 'sorting': None, 'required': None, 'validation': None, 'forced_ranking': False, 'headings': [{'heading': 'Administration and Management: How much do you know about business planning and leadership?'}], 'href': 'https://api.surveymonkey.com/v3/surveys/409346397/pages/45350810/questions/150768414', 'answers': {'choices': [{'position': 1, 'visible': True, 'text': '1 - Beginner: Complete a timesheet', 'quiz_options': {'score': 0}, 'id': '1110937949'}, {'position': 2, 'visible': True, 'text': '2', 'quiz_options': {'score': 0}, 'id': '1110937950'}, {'position': 3, 'visible': True, 'text': '3 - Skilled: Monitor project progress to complete it on time', 'quiz_options': {'score': 0}, 'id': '1110937951'}, {'position': 4, 'visible': True, 'text': '4', 'quiz_options': {'score': 0}, 'id': '1110937952'}, {'position': 5, 'visible': True, 'text': '5 - Expert: Manage a $10m company', 'quiz_options': {'score': 0}, 'id': '1110937953'}]}}\n",
      "{'id': '150768415', 'position': 3, 'visible': True, 'family': 'single_choice', 'subtype': 'vertical', 'layout': None, 'sorting': None, 'required': None, 'validation': None, 'forced_ranking': False, 'headings': [{'heading': 'Biology: How much do you know about plant, animal and cell functions?'}], 'href': 'https://api.surveymonkey.com/v3/surveys/409346397/pages/45350810/questions/150768415', 'answers': {'choices': [{'position': 1, 'visible': True, 'text': '1 - Beginner: Care for a pet', 'quiz_options': {'score': 0}, 'id': '1110937954'}, {'position': 2, 'visible': True, 'text': '2', 'quiz_options': {'score': 0}, 'id': '1110937955'}, {'position': 3, 'visible': True, 'text': '3 - Skilled: Investigate effects of pollution on plants', 'quiz_options': {'score': 0}, 'id': '1110937956'}, {'position': 4, 'visible': True, 'text': '4', 'quiz_options': {'score': 0}, 'id': '1110937957'}, {'position': 5, 'visible': True, 'text': '5 - Expert: Identify a new virus', 'quiz_options': {'score': 0}, 'id': '1110937958'}]}}\n",
      "{'id': '150768416', 'position': 4, 'visible': True, 'family': 'single_choice', 'subtype': 'vertical', 'layout': None, 'sorting': None, 'required': None, 'validation': None, 'forced_ranking': False, 'headings': [{'heading': 'Body Coordination: How well can you coordinate moving your arms, legs, and torso together?'}], 'href': 'https://api.surveymonkey.com/v3/surveys/409346397/pages/45350810/questions/150768416', 'answers': {'choices': [{'position': 1, 'visible': True, 'text': '1 - Beginner: Get in and out of a truck', 'quiz_options': {'score': 0}, 'id': '1110937959'}, {'position': 2, 'visible': True, 'text': '2', 'quiz_options': {'score': 0}, 'id': '1110937960'}, {'position': 3, 'visible': True, 'text': '3 - Skilled: Swim one pool  length, or play a ball sport', 'quiz_options': {'score': 0}, 'id': '1110937961'}, {'position': 4, 'visible': True, 'text': '4', 'quiz_options': {'score': 0}, 'id': '1110937962'}, {'position': 5, 'visible': True, 'text': '5 - Expert: Perform ballet choreography', 'quiz_options': {'score': 0}, 'id': '1110937963'}]}}\n",
      "{'id': '150768417', 'position': 5, 'visible': True, 'family': 'single_choice', 'subtype': 'vertical', 'layout': None, 'sorting': None, 'required': None, 'validation': None, 'forced_ranking': False, 'headings': [{'heading': 'Building and Construction: How much do you know about construction materials, methods, and tools?'}], 'href': 'https://api.surveymonkey.com/v3/surveys/409346397/pages/45350810/questions/150768417', 'answers': {'choices': [{'position': 1, 'visible': True, 'text': '1 - Beginner: Hang a picture', 'quiz_options': {'score': 0}, 'id': '1110937964'}, {'position': 2, 'visible': True, 'text': '2', 'quiz_options': {'score': 0}, 'id': '1110937965'}, {'position': 3, 'visible': True, 'text': '3 - Skilled: Fix a plumbing leak in ceiling', 'quiz_options': {'score': 0}, 'id': '1110937966'}, {'position': 4, 'visible': True, 'text': '4', 'quiz_options': {'score': 0}, 'id': '1110937967'}, {'position': 5, 'visible': True, 'text': '5 - Expert: Build a high-rise', 'quiz_options': {'score': 0}, 'id': '1110937968'}]}}\n",
      "{'id': '150768418', 'position': 6, 'visible': True, 'family': 'single_choice', 'subtype': 'vertical', 'layout': None, 'sorting': None, 'required': None, 'validation': None, 'forced_ranking': False, 'headings': [{'heading': 'Chemistry: How well do you know chemistry?'}], 'href': 'https://api.surveymonkey.com/v3/surveys/409346397/pages/45350810/questions/150768418', 'answers': {'choices': [{'position': 1, 'visible': True, 'text': '1 - Beginner: Use a household chemical safely', 'quiz_options': {'score': 0}, 'id': '1110937969'}, {'position': 2, 'visible': True, 'text': '2', 'quiz_options': {'score': 0}, 'id': '1110937970'}, {'position': 3, 'visible': True, 'text': '3 - Skilled: Use proper chlorine concentration to purify water source', 'quiz_options': {'score': 0}, 'id': '1110937971'}, {'position': 4, 'visible': True, 'text': '4', 'quiz_options': {'score': 0}, 'id': '1110937972'}, {'position': 5, 'visible': True, 'text': '5 - Expert: Develop a formula for a safe cleaner', 'quiz_options': {'score': 0}, 'id': '1110937973'}]}}\n",
      "{'id': '150768419', 'position': 7, 'visible': True, 'family': 'single_choice', 'subtype': 'vertical', 'layout': None, 'sorting': None, 'required': None, 'validation': None, 'forced_ranking': False, 'headings': [{'heading': 'Clerical: How much do you know about administrative tasks and processes?'}], 'href': 'https://api.surveymonkey.com/v3/surveys/409346397/pages/45350810/questions/150768419', 'answers': {'choices': [{'position': 1, 'visible': True, 'text': '1 - Beginner: File forms', 'quiz_options': {'score': 0}, 'id': '1110937974'}, {'position': 2, 'visible': True, 'text': '2', 'quiz_options': {'score': 0}, 'id': '1110937975'}, {'position': 3, 'visible': True, 'text': '3 - Skilled: Type 30 words per minute', 'quiz_options': {'score': 0}, 'id': '1110937976'}, {'position': 4, 'visible': True, 'text': '4', 'quiz_options': {'score': 0}, 'id': '1110937977'}, {'position': 5, 'visible': True, 'text': '5 - Expert: Design an online office-wide storage system', 'quiz_options': {'score': 0}, 'id': '1110937978'}]}}\n",
      "{'id': '150768420', 'position': 8, 'visible': True, 'family': 'single_choice', 'subtype': 'vertical', 'layout': None, 'sorting': None, 'required': None, 'validation': None, 'forced_ranking': False, 'headings': [{'heading': 'Complex Problem Solving: How good are you at figuring out the best way to solve a problem?'}], 'href': 'https://api.surveymonkey.com/v3/surveys/409346397/pages/45350810/questions/150768420', 'answers': {'choices': [{'position': 1, 'visible': True, 'text': '1 - Beginner: Gather tools for a household job', 'quiz_options': {'score': 0}, 'id': '1110937979'}, {'position': 2, 'visible': True, 'text': '2', 'quiz_options': {'score': 0}, 'id': '1110937980'}, {'position': 3, 'visible': True, 'text': '3 - Skilled: Redesign a floor plan around new equipment', 'quiz_options': {'score': 0}, 'id': '1110937981'}, {'position': 4, 'visible': True, 'text': '4', 'quiz_options': {'score': 0}, 'id': '1110937982'}, {'position': 5, 'visible': True, 'text': '5 - Expert: Develop a local disaster response plan', 'quiz_options': {'score': 0}, 'id': '1110937983'}]}}\n",
      "{'id': '150768421', 'position': 9, 'visible': True, 'family': 'single_choice', 'subtype': 'vertical', 'layout': None, 'sorting': None, 'required': None, 'validation': None, 'forced_ranking': False, 'headings': [{'heading': 'Computers and Electronics: How effective are you at using electronic equipment?'}], 'href': 'https://api.surveymonkey.com/v3/surveys/409346397/pages/45350810/questions/150768421', 'answers': {'choices': [{'position': 1, 'visible': True, 'text': '1 - Beginner: Open a program on a computer', 'quiz_options': {'score': 0}, 'id': '1110937984'}, {'position': 2, 'visible': True, 'text': '2', 'quiz_options': {'score': 0}, 'id': '1110937985'}, {'position': 3, 'visible': True, 'text': '3 - Skilled: Use a word processor', 'quiz_options': {'score': 0}, 'id': '1110937986'}, {'position': 4, 'visible': True, 'text': '4', 'quiz_options': {'score': 0}, 'id': '1110937987'}, {'position': 5, 'visible': True, 'text': '5 - Expert: Create a virus-scanning program', 'quiz_options': {'score': 0}, 'id': '1110937988'}]}}\n",
      "{'id': '150768422', 'position': 10, 'visible': True, 'family': 'single_choice', 'subtype': 'vertical', 'layout': None, 'sorting': None, 'required': None, 'validation': None, 'forced_ranking': False, 'headings': [{'heading': 'Customer and Personal Service: How well do you know how to handle customer needs and resolve service problems?'}], 'href': 'https://api.surveymonkey.com/v3/surveys/409346397/pages/45350810/questions/150768422', 'answers': {'choices': [{'position': 1, 'visible': True, 'text': '1 - Beginner: Process a dry-cleaning order', 'quiz_options': {'score': 0}, 'id': '1110937989'}, {'position': 2, 'visible': True, 'text': '2', 'quiz_options': {'score': 0}, 'id': '1110937990'}, {'position': 3, 'visible': True, 'text': '3 - Skilled: Supervise 10 children at a day care', 'quiz_options': {'score': 0}, 'id': '1110937991'}, {'position': 4, 'visible': True, 'text': '4', 'quiz_options': {'score': 0}, 'id': '1110937992'}, {'position': 5, 'visible': True, 'text': '5 - Expert: Plan customer outreach after data privacy breach', 'quiz_options': {'score': 0}, 'id': '1110937993'}]}}\n"
     ]
    },
    {
     "data": {
      "text/plain": [
       "[{'id': '151230949',\n",
       "  'heading': ['At what email address would you like to be contacted?'],\n",
       "  'answer_choices': None},\n",
       " {'id': '150768414',\n",
       "  'heading': ['Administration and Management: How much do you know about business planning and leadership?'],\n",
       "  'answer_choices': [{'text': '1 - Beginner: Complete a timesheet',\n",
       "    'id': '1110937949'},\n",
       "   {'text': '2', 'id': '1110937950'},\n",
       "   {'text': '3 - Skilled: Monitor project progress to complete it on time',\n",
       "    'id': '1110937951'},\n",
       "   {'text': '4', 'id': '1110937952'},\n",
       "   {'text': '5 - Expert: Manage a $10m company', 'id': '1110937953'}]},\n",
       " {'id': '150768415',\n",
       "  'heading': ['Biology: How much do you know about plant, animal and cell functions?'],\n",
       "  'answer_choices': [{'text': '1 - Beginner: Care for a pet',\n",
       "    'id': '1110937954'},\n",
       "   {'text': '2', 'id': '1110937955'},\n",
       "   {'text': '3 - Skilled: Investigate effects of pollution on plants',\n",
       "    'id': '1110937956'},\n",
       "   {'text': '4', 'id': '1110937957'},\n",
       "   {'text': '5 - Expert: Identify a new virus', 'id': '1110937958'}]},\n",
       " {'id': '150768416',\n",
       "  'heading': ['Body Coordination: How well can you coordinate moving your arms, legs, and torso together?'],\n",
       "  'answer_choices': [{'text': '1 - Beginner: Get in and out of a truck',\n",
       "    'id': '1110937959'},\n",
       "   {'text': '2', 'id': '1110937960'},\n",
       "   {'text': '3 - Skilled: Swim one pool  length, or play a ball sport',\n",
       "    'id': '1110937961'},\n",
       "   {'text': '4', 'id': '1110937962'},\n",
       "   {'text': '5 - Expert: Perform ballet choreography', 'id': '1110937963'}]},\n",
       " {'id': '150768417',\n",
       "  'heading': ['Building and Construction: How much do you know about construction materials, methods, and tools?'],\n",
       "  'answer_choices': [{'text': '1 - Beginner: Hang a picture',\n",
       "    'id': '1110937964'},\n",
       "   {'text': '2', 'id': '1110937965'},\n",
       "   {'text': '3 - Skilled: Fix a plumbing leak in ceiling', 'id': '1110937966'},\n",
       "   {'text': '4', 'id': '1110937967'},\n",
       "   {'text': '5 - Expert: Build a high-rise', 'id': '1110937968'}]},\n",
       " {'id': '150768418',\n",
       "  'heading': ['Chemistry: How well do you know chemistry?'],\n",
       "  'answer_choices': [{'text': '1 - Beginner: Use a household chemical safely',\n",
       "    'id': '1110937969'},\n",
       "   {'text': '2', 'id': '1110937970'},\n",
       "   {'text': '3 - Skilled: Use proper chlorine concentration to purify water source',\n",
       "    'id': '1110937971'},\n",
       "   {'text': '4', 'id': '1110937972'},\n",
       "   {'text': '5 - Expert: Develop a formula for a safe cleaner',\n",
       "    'id': '1110937973'}]},\n",
       " {'id': '150768419',\n",
       "  'heading': ['Clerical: How much do you know about administrative tasks and processes?'],\n",
       "  'answer_choices': [{'text': '1 - Beginner: File forms', 'id': '1110937974'},\n",
       "   {'text': '2', 'id': '1110937975'},\n",
       "   {'text': '3 - Skilled: Type 30 words per minute', 'id': '1110937976'},\n",
       "   {'text': '4', 'id': '1110937977'},\n",
       "   {'text': '5 - Expert: Design an online office-wide storage system',\n",
       "    'id': '1110937978'}]},\n",
       " {'id': '150768420',\n",
       "  'heading': ['Complex Problem Solving: How good are you at figuring out the best way to solve a problem?'],\n",
       "  'answer_choices': [{'text': '1 - Beginner: Gather tools for a household job',\n",
       "    'id': '1110937979'},\n",
       "   {'text': '2', 'id': '1110937980'},\n",
       "   {'text': '3 - Skilled: Redesign a floor plan around new equipment',\n",
       "    'id': '1110937981'},\n",
       "   {'text': '4', 'id': '1110937982'},\n",
       "   {'text': '5 - Expert: Develop a local disaster response plan',\n",
       "    'id': '1110937983'}]},\n",
       " {'id': '150768421',\n",
       "  'heading': ['Computers and Electronics: How effective are you at using electronic equipment?'],\n",
       "  'answer_choices': [{'text': '1 - Beginner: Open a program on a computer',\n",
       "    'id': '1110937984'},\n",
       "   {'text': '2', 'id': '1110937985'},\n",
       "   {'text': '3 - Skilled: Use a word processor', 'id': '1110937986'},\n",
       "   {'text': '4', 'id': '1110937987'},\n",
       "   {'text': '5 - Expert: Create a virus-scanning program',\n",
       "    'id': '1110937988'}]},\n",
       " {'id': '150768422',\n",
       "  'heading': ['Customer and Personal Service: How well do you know how to handle customer needs and resolve service problems?'],\n",
       "  'answer_choices': [{'text': '1 - Beginner: Process a dry-cleaning order',\n",
       "    'id': '1110937989'},\n",
       "   {'text': '2', 'id': '1110937990'},\n",
       "   {'text': '3 - Skilled: Supervise 10 children at a day care',\n",
       "    'id': '1110937991'},\n",
       "   {'text': '4', 'id': '1110937992'},\n",
       "   {'text': '5 - Expert: Plan customer outreach after data privacy breach',\n",
       "    'id': '1110937993'}]}]"
      ]
     },
     "metadata": {},
     "output_type": "display_data"
    },
    {
     "data": {
      "text/plain": [
       "10"
      ]
     },
     "execution_count": 368,
     "metadata": {},
     "output_type": "execute_result"
    }
   ],
   "source": [
    "# Get survey questions/answer option ids\n",
    "# response = requests.get(SURVEY_ENDPOINT + \"/details\", headers=headers)\n",
    "# survey_details = response.json()\n",
    "\n",
    "## Save to avoid unnecessary calls to API\n",
    "# import json\n",
    "# with open(\"survey-details.json\", \"w\") as file:\n",
    "#     json.dump(survey_details, file)\n",
    "\n",
    "with open(\"survey-details.json\", \"r\") as file:\n",
    "    survey_details = json.load(file)\n",
    "# display(survey_details)\n",
    "\n",
    "# Filtering for relevant information\n",
    "smonkey_qa_map = []\n",
    "for p in survey_details['pages']:\n",
    "    for q in p['questions']:\n",
    "        print(q)\n",
    "        if 'answers' in q.keys(): \n",
    "            answer_choices = [{'text':d['text'], 'id':d['id']}\n",
    "                 for d in q['answers']['choices']]\n",
    "        else:\n",
    "            answer_choices = None\n",
    "        smonkey_qa_map.append({'id':q['id'],\n",
    "            'heading':[h['heading'] for h in q['headings']],\n",
    "            'answer_choices':answer_choices\n",
    "        })\n",
    "## Saving to reduce requests \n",
    "# with open(\"surveymonkey_smonkey_qa_map.json\", \"w\") as file:\n",
    "#     json.dump(smonkey_qa_map, file)\n",
    "\n",
    "display(smonkey_qa_map)\n",
    "len(smonkey_qa_map)"
   ]
  },
  {
   "cell_type": "markdown",
   "metadata": {},
   "source": [
    "##### **Combine with COS Question/Answer Key** \n",
    "\n",
    "(See `cs-api.ipynb` for code to make this json)\n",
    "\n",
    "We only have a free tier SM account so we are limited to only 10 questions. The full skills-survey in CareerOneStop is 40 questions. \n",
    "\n",
    "We will therefore only combine what questions we have with the COS key for now.\n",
    "\n"
   ]
  },
  {
   "cell_type": "code",
   "execution_count": 334,
   "metadata": {},
   "outputs": [
    {
     "data": {
      "text/plain": [
       "{'skills-survey': {'150768414': {'question_text': {'cos': 'How much do you know about business planning and leadership?'},\n",
       "   'question_number': {'cos': '1', 'sm': '2'},\n",
       "   'question_id': {'cos': '2.C.1.a', 'sm': '150768414'},\n",
       "   'answer_id': {'1110937949': 1.534,\n",
       "    '1110937950': 2.4145,\n",
       "    '1110937951': 3.295,\n",
       "    '1110937952': 4.1755,\n",
       "    '1110937953': 5.056}},\n",
       "  '150768415': {'question_text': {'cos': 'How much do you know about plant, animal and cell functions?'},\n",
       "   'question_number': {'cos': '2', 'sm': '3'},\n",
       "   'question_id': {'cos': '2.C.4.d', 'sm': '150768415'},\n",
       "   'answer_id': {'1110937954': 1.372,\n",
       "    '1110937955': 2.401,\n",
       "    '1110937956': 3.43,\n",
       "    '1110937957': 4.459,\n",
       "    '1110937958': 5.488}},\n",
       "  '150768416': {'question_text': {'cos': 'How well can you coordinate moving your arms, legs, and torso together?'},\n",
       "   'question_number': {'cos': '3', 'sm': '4'},\n",
       "   'question_id': {'cos': '1.A.3.c.3', 'sm': '150768416'},\n",
       "   'answer_id': {'1110937959': 1.176,\n",
       "    '1110937960': 2.058,\n",
       "    '1110937961': 2.94,\n",
       "    '1110937962': 3.822,\n",
       "    '1110937963': 4.704}},\n",
       "  '150768417': {'question_text': {'cos': 'How much do you know about construction materials, methods, and tools?'},\n",
       "   'question_number': {'cos': '4', 'sm': '5'},\n",
       "   'question_id': {'cos': '2.C.3.d', 'sm': '150768417'},\n",
       "   'answer_id': {'1110937964': 1.24,\n",
       "    '1110937965': 2.17,\n",
       "    '1110937966': 3.1,\n",
       "    '1110937967': 4.03,\n",
       "    '1110937968': 4.96}},\n",
       "  '150768418': {'question_text': {'cos': 'How well do you know chemistry?'},\n",
       "   'question_number': {'cos': '5', 'sm': '6'},\n",
       "   'question_id': {'cos': '2.C.4.c', 'sm': '150768418'},\n",
       "   'answer_id': {'1110937969': 1.332,\n",
       "    '1110937970': 2.331,\n",
       "    '1110937971': 3.33,\n",
       "    '1110937972': 4.329,\n",
       "    '1110937973': 5.328}},\n",
       "  '150768419': {'question_text': {'cos': 'How much do you know about administrative tasks and processes?'},\n",
       "   'question_number': {'cos': '6', 'sm': '7'},\n",
       "   'question_id': {'cos': '2.C.1.b', 'sm': '150768419'},\n",
       "   'answer_id': {'1110937974': 1.366,\n",
       "    '1110937975': 2.3305,\n",
       "    '1110937976': 3.295,\n",
       "    '1110937977': 4.2595,\n",
       "    '1110937978': 5.224}},\n",
       "  '150768420': {'question_text': {'cos': 'How good are you at figuring out the best way to solve a problem?'},\n",
       "   'question_number': {'cos': '7', 'sm': '8'},\n",
       "   'question_id': {'cos': '2.B.2.i', 'sm': '150768420'},\n",
       "   'answer_id': {'1110937979': 2.224,\n",
       "    '1110937980': 2.767,\n",
       "    '1110937981': 3.31,\n",
       "    '1110937982': 3.853,\n",
       "    '1110937983': 4.396}},\n",
       "  '150768421': {'question_text': {'cos': 'How effective are you at using electronic equipment?'},\n",
       "   'question_number': {'cos': '8', 'sm': '9'},\n",
       "   'question_id': {'cos': '2.C.3.a', 'sm': '150768421'},\n",
       "   'answer_id': {'1110937984': 1.406,\n",
       "    '1110937985': 2.408,\n",
       "    '1110937986': 3.41,\n",
       "    '1110937987': 4.412,\n",
       "    '1110937988': 5.414}},\n",
       "  '150768422': {'question_text': {'cos': 'How well do you know how to handle customer needs and resolve service problems?'},\n",
       "   'question_number': {'cos': '9', 'sm': '10'},\n",
       "   'question_id': {'cos': '2.C.1.e', 'sm': '150768422'},\n",
       "   'answer_id': {'1110937989': 1.292,\n",
       "    '1110937990': 2.261,\n",
       "    '1110937991': 3.23,\n",
       "    '1110937992': 4.199,\n",
       "    '1110937993': 5.168}}},\n",
       " 'non-skills-survey': [{'id': '151230949',\n",
       "   'heading': ['At what email address would you like to be contacted?'],\n",
       "   'answer_choices': None}]}"
      ]
     },
     "metadata": {},
     "output_type": "display_data"
    }
   ],
   "source": [
    "with open(\"data/get-skills-api/response_translated.json\", \"r\") as file:\n",
    "    cos_skills_survey = json.load(file)\n",
    "\n",
    "combined_map = [] # map for the skills survey questions\n",
    "for n, question in enumerate(cos_skills_survey):\n",
    "    d = {\n",
    "        'question_text':{'cos':question['Question']},  # Add question text for human readability and double-checking match between questions \n",
    "        'question_number':{'cos':str(n + 1)}, \n",
    "        'question_id': {'cos':question['ElementId']},\n",
    "        'answer_id':{\n",
    "            'Beginner':{'cos':question['Beginner']},\n",
    "            'Basic':{'cos':question['Basic']},\n",
    "            'Skilled':{'cos':question['Skilled']},\n",
    "            'Advanced':{'cos':question['Advanced']},\n",
    "            'Expert':{'cos':question['Expert']},\n",
    "        } \n",
    "    }\n",
    "    combined_map.append(d)\n",
    "\n",
    "## Version 1, more human readable \n",
    "skills_matcher_start_index = 1 # The Official DWDB SurveyMonkey survey includes contextual questions which aren't included in the CareerOneStop skills survey, as does our demo survey here\n",
    "for n, q in enumerate(smonkey_qa_map[skills_matcher_start_index:]):\n",
    "\n",
    "    # Match SM answer ids to COS answer ids \n",
    "    combined_map[n]['answer_id']['Beginner']['sm'] = q['answer_choices'][0]['id']\n",
    "    combined_map[n]['answer_id']['Basic']['sm'] = q['answer_choices'][1]['id']\n",
    "    combined_map[n]['answer_id']['Skilled']['sm'] = q['answer_choices'][2]['id']\n",
    "    combined_map[n]['answer_id']['Advanced']['sm'] = q['answer_choices'][3]['id']\n",
    "    combined_map[n]['answer_id']['Expert']['sm'] = q['answer_choices'][4]['id']\n",
    " \n",
    "\n",
    "    # Add sm question id \n",
    "    combined_map[n]['question_id']['sm'] = q['id']\n",
    "\n",
    "    # Add sm question number \n",
    "    combined_map[n]['question_number']['sm'] = str((n + 1) + skills_matcher_start_index) \n",
    "\n",
    "# display(combined_map[:1]) more human readable version of variable map\n",
    "# with open(\"combined_map_v1.json\", \"w\") as file:\n",
    "#     json.dump(combined_map, file)\n",
    "\n",
    "## Version 2 for actual translation \n",
    "# Change the 'Beginner', 'Basic', etc. skill levels to the SM answer ids\n",
    "skill_levels = ('Beginner', 'Basic', 'Skilled', 'Advanced', 'Expert')\n",
    "for n, d in enumerate(combined_map):\n",
    "    for l in skill_levels:\n",
    "        if 'sm' in d['answer_id'][l].keys():\n",
    "            sm_answer_id = d['answer_id'][l]['sm']\n",
    "            cos_answer_id = d['answer_id'][l]['cos']\n",
    "            d['answer_id'].pop(l) \n",
    "            d['answer_id'][sm_answer_id] = cos_answer_id\n",
    "# Cast to dictionary with SM question ids as keys\n",
    "combined_map = {'skills-survey':{d['question_id']['sm']:d for d in combined_map if 'sm' in d['question_id'].keys()}}\n",
    "# Add the non skills map questions -- TBD if we need to process these \n",
    "combined_map['non-skills-survey']  = [q for q in smonkey_qa_map[:skills_matcher_start_index]] \n",
    "\n",
    "display(combined_map)\n",
    "\n",
    "with open(\"combined_map_v2.json\", \"w\") as file:\n",
    "    json.dump(combined_map, file)"
   ]
  },
  {
   "cell_type": "markdown",
   "metadata": {},
   "source": [
    "~~In our web app, we will run a check on the SurveyMonkey survey's 'last modified' field from the `/details` endpoint to see if we can use the cached copy of this main variable map, or else we will have to fetch and re-create a new map (TO-DO).~~\n",
    "\n",
    "This is a moot point because to request the last modified value, you have to get the entire set of survey details anyways. "
   ]
  },
  {
   "cell_type": "markdown",
   "metadata": {},
   "source": [
    "##### **Get list of responses**\n",
    "In production, this will be replaced with subscription to a SurveyMonkey webhoook."
   ]
  },
  {
   "cell_type": "code",
   "execution_count": 354,
   "metadata": {},
   "outputs": [
    {
     "data": {
      "text/plain": [
       "[{'resp_id': '114409718452',\n",
       "  'collector_id': '427785863',\n",
       "  'questions': [{'question_number': {'sm': '2', 'cos': '1'},\n",
       "    'question_id': {'sm': '150768414', 'cos': '2.C.1.a'},\n",
       "    'question_type': 'skills-survey',\n",
       "    'answer_id': {'sm': '1110937950', 'cos': 2.4145}},\n",
       "   {'question_number': {'sm': '3', 'cos': '2'},\n",
       "    'question_id': {'sm': '150768415', 'cos': '2.C.4.d'},\n",
       "    'question_type': 'skills-survey',\n",
       "    'answer_id': {'sm': '1110937954', 'cos': 1.372}},\n",
       "   {'question_number': {'sm': '4', 'cos': '3'},\n",
       "    'question_id': {'sm': '150768416', 'cos': '1.A.3.c.3'},\n",
       "    'question_type': 'skills-survey',\n",
       "    'answer_id': {'sm': '1110937962', 'cos': 3.822}},\n",
       "   {'question_number': {'sm': '5', 'cos': '4'},\n",
       "    'question_id': {'sm': '150768417', 'cos': '2.C.3.d'},\n",
       "    'question_type': 'skills-survey',\n",
       "    'answer_id': {'sm': '1110937967', 'cos': 4.03}},\n",
       "   {'question_number': {'sm': '6', 'cos': '5'},\n",
       "    'question_id': {'sm': '150768418', 'cos': '2.C.4.c'},\n",
       "    'question_type': 'skills-survey',\n",
       "    'answer_id': {'sm': '1110937970', 'cos': 2.331}},\n",
       "   {'question_number': {'sm': '7', 'cos': '6'},\n",
       "    'question_id': {'sm': '150768419', 'cos': '2.C.1.b'},\n",
       "    'question_type': 'skills-survey',\n",
       "    'answer_id': {'sm': '1110937975', 'cos': 2.3305}},\n",
       "   {'question_number': {'sm': '8', 'cos': '7'},\n",
       "    'question_id': {'sm': '150768420', 'cos': '2.B.2.i'},\n",
       "    'question_type': 'skills-survey',\n",
       "    'answer_id': {'sm': '1110937981', 'cos': 3.31}},\n",
       "   {'question_number': {'sm': '9', 'cos': '8'},\n",
       "    'question_id': {'sm': '150768421', 'cos': '2.C.3.a'},\n",
       "    'question_type': 'skills-survey',\n",
       "    'answer_id': {'sm': '1110937985', 'cos': 2.408}},\n",
       "   {'question_number': {'sm': '10', 'cos': '9'},\n",
       "    'question_id': {'sm': '150768422', 'cos': '2.C.1.e'},\n",
       "    'question_type': 'skills-survey',\n",
       "    'answer_id': {'sm': '1110937990', 'cos': 2.261}}]}]"
      ]
     },
     "metadata": {},
     "output_type": "display_data"
    }
   ],
   "source": [
    "## Get survey responses \n",
    "# response = requests.get(SURVEY_ENDPOINT + \"/responses/bulk?per_page=100\", headers=headers)\n",
    "# survey_responses = response.json()\n",
    "# survey_responses\n",
    "\n",
    "## Save to avoid unnecessary calls to API\n",
    "# import json\n",
    "# with open(\"survey-responses.json\", \"w\") as file:\n",
    "#     json.dump(survey_responses, file)\n",
    "\n",
    "with open(\"survey-responses.json\", \"r\") as file:\n",
    "    survey_responses = json.load(file)\n",
    "\n",
    "# Filter for relevant information, and add COS data\n",
    "new_responses = []\n",
    "for resp in survey_responses['data']:\n",
    "    resp_dict = {\n",
    "        'resp_id':resp['id'],\n",
    "        'collector_id':resp['collector_id'], \n",
    "        'questions':[]\n",
    "    }\n",
    "    n = 1\n",
    "    for p in resp['pages']:\n",
    "        for q in p['questions']:\n",
    "            q_dict = {\n",
    "                'question_number':{'sm':str(n+1)},\n",
    "                'question_id':{'sm':q['id']},\n",
    "                'question_type':None,\n",
    "                'answer_id':{}\n",
    "            }  \n",
    "            n += 1 \n",
    "            ## Adding COS translation data \n",
    "            q_dict['question_id']['cos'] = combined_map['skills-survey'][q['id']]['question_id']['cos']\n",
    "            if q['id'] not in combined_map['skills-survey'].keys(): # if not a skills survey question\n",
    "                q_dict['question_type'] = 'non-skills-survey' \n",
    "                q_dict['answer_id'] = q['answers'] # TBD if we need to process these answers \n",
    "            else: \n",
    "                q_dict['question_number']['cos'] = combined_map['skills-survey'][q['id']]['question_number']['cos']\n",
    "                q_dict['question_type'] = 'skills-survey'\n",
    "                sm_answer_id = q['answers'][0]['choice_id'] # skills survey questions only have one answer \n",
    "                q_dict['answer_id'] = {'sm':sm_answer_id, \n",
    "                                    'cos':combined_map['skills-survey'][q['id']]['answer_id'][sm_answer_id]}  \n",
    "                \n",
    "            resp_dict['questions'].append(q_dict)\n",
    "    new_responses.append(resp_dict)\n",
    "\n",
    "display(new_responses)   "
   ]
  },
  {
   "cell_type": "code",
   "execution_count": 3,
   "metadata": {},
   "outputs": [
    {
     "data": {
      "text/plain": [
       "{'data': [{'id': '114409718452',\n",
       "   'recipient_id': '',\n",
       "   'collection_mode': 'default',\n",
       "   'response_status': 'completed',\n",
       "   'custom_value': '',\n",
       "   'first_name': '',\n",
       "   'last_name': '',\n",
       "   'email_address': '',\n",
       "   'ip_address': '96.64.76.209',\n",
       "   'logic_path': {},\n",
       "   'metadata': {'contact': {}},\n",
       "   'page_path': [],\n",
       "   'collector_id': '427785863',\n",
       "   'survey_id': '409346397',\n",
       "   'custom_variables': {},\n",
       "   'edit_url': 'https://www.surveymonkey.com/r/?sm=MKTi7zUaCT0NNV4xwYeK7ZznphgwMRWxwqKsI120yUFxpWGRWVD0l5Ev1zYBoZVK',\n",
       "   'analyze_url': 'https://www.surveymonkey.com/analyze/browse/JrhdBA97A18icLNdv_2B26M4cs4Lx9WaWryCJ3TK_2F_2FzUk_3D?respondent_id=114409718452',\n",
       "   'total_time': 41,\n",
       "   'date_modified': '2023-09-11T16:21:35+00:00',\n",
       "   'date_created': '2023-09-11T16:20:54+00:00',\n",
       "   'href': 'https://api.surveymonkey.com/v3/surveys/409346397/responses/114409718452',\n",
       "   'pages': [{'id': '45350810',\n",
       "     'questions': [{'id': '150768414',\n",
       "       'answers': [{'choice_id': '1110937950'}]},\n",
       "      {'id': '150768415', 'answers': [{'choice_id': '1110937954'}]},\n",
       "      {'id': '150768416', 'answers': [{'choice_id': '1110937962'}]},\n",
       "      {'id': '150768417', 'answers': [{'choice_id': '1110937967'}]},\n",
       "      {'id': '150768418', 'answers': [{'choice_id': '1110937970'}]},\n",
       "      {'id': '150768419', 'answers': [{'choice_id': '1110937975'}]},\n",
       "      {'id': '150768420', 'answers': [{'choice_id': '1110937981'}]},\n",
       "      {'id': '150768421', 'answers': [{'choice_id': '1110937985'}]},\n",
       "      {'id': '150768422', 'answers': [{'choice_id': '1110937990'}]}]}]}],\n",
       " 'per_page': 10,\n",
       " 'page': 1,\n",
       " 'total': 1,\n",
       " 'links': {'self': 'https://api.surveymonkey.com/v3/surveys/409346397/responses/bulk?per_page=10&page=1'}}"
      ]
     },
     "execution_count": 3,
     "metadata": {},
     "output_type": "execute_result"
    }
   ],
   "source": [
    "with open(\"survey-responses.json\", \"r\") as file:\n",
    "    survey_responses = json.load(file)\n",
    "\n",
    "survey_responses"
   ]
  },
  {
   "cell_type": "code",
   "execution_count": 370,
   "metadata": {},
   "outputs": [
    {
     "data": {
      "text/plain": [
       "dict_keys(['id', 'recipient_id', 'collection_mode', 'response_status', 'custom_value', 'first_name', 'last_name', 'email_address', 'ip_address', 'logic_path', 'metadata', 'page_path', 'collector_id', 'survey_id', 'custom_variables', 'edit_url', 'analyze_url', 'total_time', 'date_modified', 'date_created', 'href', 'pages'])"
      ]
     },
     "execution_count": 370,
     "metadata": {},
     "output_type": "execute_result"
    }
   ],
   "source": [
    "survey_responses['data'][0].keys()"
   ]
  },
  {
   "cell_type": "markdown",
   "metadata": {},
   "source": [
    "Notice the response didn't include the non skills survey question from our demo survey (question #1, which asked for user email). Kamran did not fill this one out -- we will need to keep  in mind that uncompleted questions won't have their answer values included."
   ]
  },
  {
   "cell_type": "markdown",
   "metadata": {},
   "source": [
    "##### **Create request object for CareerOneStop Skills Matcher**\n"
   ]
  },
  {
   "cell_type": "code",
   "execution_count": 361,
   "metadata": {},
   "outputs": [
    {
     "data": {
      "text/plain": [
       "{'ElementId': '2.C.1.a', 'DataValue': '3.295'}"
      ]
     },
     "metadata": {},
     "output_type": "display_data"
    },
    {
     "data": {
      "text/plain": [
       "{'SKAValueList': [{'ElementId': '2.C.1.a', 'DataValue': 2.4145},\n",
       "  {'ElementId': '2.C.4.d', 'DataValue': 1.372},\n",
       "  {'ElementId': '1.A.3.c.3', 'DataValue': 3.822},\n",
       "  {'ElementId': '2.C.3.d', 'DataValue': 4.03},\n",
       "  {'ElementId': '2.C.4.c', 'DataValue': 2.331},\n",
       "  {'ElementId': '2.C.1.b', 'DataValue': 2.3305},\n",
       "  {'ElementId': '2.B.2.i', 'DataValue': 3.31},\n",
       "  {'ElementId': '2.C.3.a', 'DataValue': 2.408},\n",
       "  {'ElementId': '2.C.1.e', 'DataValue': 2.261}]}"
      ]
     },
     "execution_count": 361,
     "metadata": {},
     "output_type": "execute_result"
    }
   ],
   "source": [
    "# Use our translated response to create a request object to the skills matcher \n",
    "with open(os.path.join(\"data\", \"skills-submit-api\", \"example-request.json\"), \"r\") as file:\n",
    "  example_request = json.load(file)\n",
    "\n",
    "display(example_request['SKAValueList'][0])\n",
    "\n",
    "new_cos_request = {'SKAValueList':[\n",
    "  {'ElementId':q['question_id']['cos'], 'DataValue':q['answer_id']['cos']}\n",
    "for resp in new_responses for q in resp['questions'] if q['question_type'] == 'skills-survey']}\n",
    "\n",
    "new_cos_request"
   ]
  },
  {
   "cell_type": "markdown",
   "metadata": {},
   "source": [
    "See `cs-api.ipynb` for how to extend this type of request object with random answers for the rest of the skills survey questions (recall that we're limited to this number of questions by SM free tier) and how to send it in a GET request to the COS API."
   ]
  },
  {
   "cell_type": "markdown",
   "metadata": {},
   "source": [
    "---\n",
    "\n",
    "\n",
    "#### Oauth 2.0 Setup\n",
    "\n",
    "We won't need to use Oauth 2.0 unless we have multiple SurveyMonkey Accounts which will be logging into the app. We will come back to this section later on if we decide that is necessary. \n",
    "\n",
    "1. [] Register draft app (public for test, private requires enterprise license)\n",
    "2. [] create website to host app\n",
    "3. [] set up [oauth redirect](https://developer.surveymonkey.com/api/v3/#authentication) to app from host site \n",
    "\n",
    "**Step 1:** Send the user whose SurveyMonkey account you wish to access to a specially crafted OAuth link. The page presented to the user will identify your app, ask them to log into SurveyMonkey if they aren’t already, and ask them to authorize any required scopes\n",
    "\n",
    "The OAuth link should be https://api.surveymonkey.com/oauth/authorize with urlencoded parameters: redirect_uri, client_id, response_type and state.\n",
    "\n",
    "* \"response_type\"=\"code\" (always, hardcoded value)\n",
    "* \"client_id\"=unique client id you got when registering your app\n",
    "* \"redirect_uri\"=URL encoded OAuth redirect URI you registered for your app\n",
    "* \"state\" (recommended)=A value included in the request that will also be returned in the token response. It can be a string of any content that you wish. A randomly generated unique value is typically used for preventing cross-site request forgery attacks.*\n",
    "\n",
    "e.g. `https://api.surveymonkey.com/oauth/authorize?response_type=code&redirect_uri=https%3A%2F%2Fapi.surveymonkey.com%2Fapi_console%2Foauth2callback&client_id=SurveyMonkeyApiConsole%2Fstate=uniquestring`"
   ]
  },
  {
   "cell_type": "code",
   "execution_count": 9,
   "metadata": {},
   "outputs": [
    {
     "name": "stdout",
     "output_type": "stream",
     "text": [
      "code http://127.0.0.1:5000/auth/callback C_44TfLERSi0kXy-tS2snQ\n"
     ]
    },
    {
     "data": {
      "text/plain": [
       "'https://api.surveymonkey.com/oauth/authorize?response_type=code&redirect_uri=http%3A%2F%2F127.0.0.1%3A5000%2Fauth%2Fcallback&client_id=C_44TfLERSi0kXy-tS2snQ'"
      ]
     },
     "execution_count": 9,
     "metadata": {},
     "output_type": "execute_result"
    }
   ],
   "source": [
    "import yaml \n",
    "from urllib.parse import urlencode\n",
    "\n",
    "oauth_link = \"https://api.surveymonkey.com/oauth/authorize\"\n",
    "\n",
    "with open(\"api-key.yaml\",\"r\") as file:\n",
    "    api_info = yaml.full_load(file)\n",
    "\n",
    "RESPONSE_TYPE = \"code\"\n",
    "REDIRECT_URI = \"http://localhost:5000/auth/callback\" # for local test\n",
    "CLIENT_ID = api_info['sm']['app']['client-id']\n",
    "# SECRET = api_info['sm']['app']['secret']\n",
    "# ACCESS_TOKEN = api_info['sm']['app']['access_token']\n",
    "print(RESPONSE_TYPE, REDIRECT_URI, CLIENT_ID)\n",
    "params = {\n",
    "    'response_type': RESPONSE_TYPE, \n",
    "    'redirect_uri': REDIRECT_URI, \n",
    "    'client_id': CLIENT_ID\n",
    "}\n",
    "\n",
    "full_oauth_link = f\"{oauth_link}?{urlencode(params)}\"\n",
    "full_oauth_link"
   ]
  }
 ],
 "metadata": {
  "kernelspec": {
   "display_name": "venv",
   "language": "python",
   "name": "python3"
  },
  "language_info": {
   "codemirror_mode": {
    "name": "ipython",
    "version": 3
   },
   "file_extension": ".py",
   "mimetype": "text/x-python",
   "name": "python",
   "nbconvert_exporter": "python",
   "pygments_lexer": "ipython3",
   "version": "3.11.5"
  },
  "orig_nbformat": 4
 },
 "nbformat": 4,
 "nbformat_minor": 2
}
