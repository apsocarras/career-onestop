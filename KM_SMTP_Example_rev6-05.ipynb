{
 "cells": [
  {
   "cell_type": "markdown",
   "id": "13ec9a13-1f80-41d6-b32a-bf9c85b07e0e",
   "metadata": {
    "tags": []
   },
   "source": [
    "# Sending email programmatically"
   ]
  },
  {
   "cell_type": "markdown",
   "id": "2cfd00ad-b393-49ab-96da-ad6451b0fa4d",
   "metadata": {
    "tags": []
   },
   "source": [
    "## Importing modules, keys, and passwords:"
   ]
  },
  {
   "cell_type": "code",
   "execution_count": 1,
   "id": "29a3db42",
   "metadata": {
    "tags": []
   },
   "outputs": [],
   "source": [
    "# Import necessary libraries.\n",
    "import json\n",
    "import pandas as pd\n",
    "import urllib.parse\n",
    "import smtplib\n",
    "from email.mime.multipart import MIMEMultipart\n",
    "from email.mime.text import MIMEText\n",
    "from tabulate import tabulate\n",
    "from datetime import datetime"
   ]
  },
  {
   "cell_type": "code",
   "execution_count": 2,
   "id": "e7ad2a4e",
   "metadata": {
    "tags": []
   },
   "outputs": [],
   "source": [
    "# 12 letter email app password must be added here.\n",
    "password = \"\""
   ]
  },
  {
   "cell_type": "markdown",
   "id": "009bdcbb",
   "metadata": {
    "tags": []
   },
   "source": [
    "## Setting up gmail:"
   ]
  },
  {
   "cell_type": "markdown",
   "id": "661d3c75",
   "metadata": {},
   "source": [
    "Check gmail through other email platforms: https://support.google.com/mail/answer/7126229?visit_id=638300612428115617-2230202100&p=BadCredentials&rd=2#cantsignin&zippy=%2Ci-cant-sign-in-to-my-email-client"
   ]
  },
  {
   "cell_type": "markdown",
   "id": "42747c6e",
   "metadata": {},
   "source": [
    "Sign in with app password: https://support.google.com/accounts/answer/185833?sjid=13742701505310090574-NA"
   ]
  },
  {
   "cell_type": "markdown",
   "id": "69bbb3cb-e5e4-4a2d-99fc-ae42217fe89a",
   "metadata": {
    "tags": []
   },
   "source": [
    "## Data Loading and Processing:"
   ]
  },
  {
   "cell_type": "code",
   "execution_count": 3,
   "id": "39869dbe-1bd0-4381-985f-ebda31e0b635",
   "metadata": {
    "tags": []
   },
   "outputs": [],
   "source": [
    "# Load data from JSON file\n",
    "def load_data(file_path):\n",
    "    \"\"\"\n",
    "    Load data from a JSON file.\n",
    "\n",
    "    Args:\n",
    "        file_path (str): The path to the JSON file.\n",
    "\n",
    "    Returns:\n",
    "        dict: A dictionary containing the loaded data.\n",
    "    \"\"\"\n",
    "    with open(file_path, 'r') as json_file:\n",
    "        data = json.load(json_file)\n",
    "    return data\n",
    "\n",
    "# Define a custom formatting function\n",
    "def format_annual_wages(wage):\n",
    "    \"\"\"\n",
    "    Format the annual wages value with commas as thousands separators.\n",
    "\n",
    "    Parameters:\n",
    "        wage (float): The annual wages value to be formatted.\n",
    "\n",
    "    Returns:\n",
    "        str: The formatted annual wages value as a string.\n",
    "\n",
    "    Example:\n",
    "        >>> format_annual_wages(50000)\n",
    "        '50,000'\n",
    "    \"\"\"\n",
    "    return \"{:,.0f}\".format(wage)"
   ]
  },
  {
   "cell_type": "markdown",
   "id": "f3b5d24a-70a6-40a1-aeba-a083addf2204",
   "metadata": {},
   "source": [
    "## Define hyperlinks"
   ]
  },
  {
   "cell_type": "code",
   "execution_count": 4,
   "id": "7ad21d74-1dc8-42c2-80f0-505c700651dd",
   "metadata": {
    "tags": []
   },
   "outputs": [],
   "source": [
    "# Create hyperlinks\n",
    "def create_hyperlink(row):\n",
    "    \"\"\"\n",
    "    Create hyperlinks for the \"Career\" column based on provided parameters.\n",
    "\n",
    "    Args:\n",
    "        row (pandas.Series): A row of data from the DataFrame.\n",
    "\n",
    "    Returns:\n",
    "        str: An HTML hyperlink for the Career column.\n",
    "    \"\"\"\n",
    "    base_url = \"https://www.careeronestop.org/Toolkit/Careers/Occupations/occupation-profile.aspx?\"\n",
    "    parameters = {\n",
    "        \"keyword\": urllib.parse.quote(row[\"Career\"]),\n",
    "        \"location\": \"US\",\n",
    "        \"lang\": \"en\",\n",
    "        \"onetCode\": row[\"OnetCode\"]\n",
    "    }\n",
    "    url_params = \"&\".join([f\"{key}={value}\" for key, value in parameters.items()])\n",
    "    url = f'{base_url}{url_params}'\n",
    "    return url"
   ]
  },
  {
   "cell_type": "markdown",
   "id": "f0d02953-f9cf-4297-9167-4e55a87409fa",
   "metadata": {},
   "source": [
    "## Email Configuration:"
   ]
  },
  {
   "cell_type": "code",
   "execution_count": 5,
   "id": "9bd2d755-c599-4f4a-9c4a-2897b016de59",
   "metadata": {
    "tags": []
   },
   "outputs": [],
   "source": [
    "# Define constants\n",
    "SENDER_EMAIL = \"dil.techimpact@gmail.com\"\n",
    "RECEIVER_EMAIL = \"kamran@techimpact.org\"\n",
    "SMTP_SERVER = \"smtp.gmail.com\"\n",
    "SMTP_PORT = 587\n",
    "EMAIL_PASSWORD = password"
   ]
  },
  {
   "cell_type": "markdown",
   "id": "a675025e-4fab-48bf-8a6f-3414c43369e9",
   "metadata": {},
   "source": [
    "## Email Sending Logic:"
   ]
  },
  {
   "cell_type": "code",
   "execution_count": 6,
   "id": "bc2a153b-f7b4-474d-b2a1-ba93ca9b1ab8",
   "metadata": {
    "tags": []
   },
   "outputs": [],
   "source": [
    "# Send email\n",
    "def send_email(subject, message):\n",
    "    \"\"\"\n",
    "    Send an email with a specified subject and message.\n",
    "\n",
    "    Args:\n",
    "        subject (str): The subject of the email.\n",
    "        message (str): The HTML message content of the email.\n",
    "    \"\"\"\n",
    "    msg = MIMEMultipart()\n",
    "    msg[\"Subject\"] = subject\n",
    "    msg.attach(MIMEText(message, 'html'))  # Use 'html' for HTML content or 'plain' for plain text.\n",
    "\n",
    "    server = smtplib.SMTP(SMTP_SERVER, SMTP_PORT)\n",
    "    server.starttls()\n",
    "    server.login(SENDER_EMAIL, EMAIL_PASSWORD)\n",
    "    server.sendmail(SENDER_EMAIL, RECEIVER_EMAIL, msg.as_string())\n",
    "    server.quit()"
   ]
  },
  {
   "cell_type": "markdown",
   "id": "8e776ccf-40b0-455b-b43c-7a181ebce805",
   "metadata": {},
   "source": [
    "## Main Execution:"
   ]
  },
  {
   "cell_type": "code",
   "execution_count": 7,
   "id": "c7a4345a-4816-4ac9-979f-2dcfc15ebf26",
   "metadata": {
    "jp-MarkdownHeadingCollapsed": true,
    "tags": []
   },
   "outputs": [],
   "source": [
    "# Load data\n",
    "data = load_data('/Users/kamran/Downloads/DWDB/repo/career-onestop/data/skills-submit-api/example-response.json')\n",
    "\n",
    "# Extract and format data\n",
    "key_list = list(data.keys())\n",
    "inner_dict0 = data[key_list[0]][:10]\n",
    "recoms_df = pd.DataFrame(inner_dict0)\n",
    "recoms_df_modified = recoms_df[['Rank', \n",
    "                                'OccupationTitle', \n",
    "                                'AnnualWages', \n",
    "                                'TypicalEducation', \n",
    "                                'Outlook', \n",
    "                                'OnetCode']].copy()\n",
    "\n",
    "recoms_df_modified.rename(columns={'Rank': 'Your Match', \n",
    "                                   'OccupationTitle': 'Career', \n",
    "                                   'AnnualWages': 'Annual Wages', \n",
    "                                   'TypicalEducation': 'Education'}, inplace=True)\n",
    "\n",
    "# Format Annual Wages\n",
    "recoms_df_modified['Annual Wages'] = recoms_df_modified['Annual Wages'].apply(format_annual_wages)\n",
    "\n",
    "# Create hyperlinks and store them in a new column\n",
    "recoms_df_modified[\"Career Hyperlink\"] = recoms_df_modified.apply(create_hyperlink, axis=1)\n",
    "\n",
    "# Drop redundant columns\n",
    "recoms_df_modified.drop('OnetCode', axis=1, inplace=True)\n",
    "\n",
    "column_alignments = {\n",
    "    \"Your Match\": \"center\",\n",
    "    \"Career\": \"left\",\n",
    "    \"Annual Wages\": \"right\",\n",
    "    \"Education\": \"left\",\n",
    "    \"Outlook\": \"left\"\n",
    "}\n",
    "\n",
    "# Extract the alignment values into a list in the same order as columns\n",
    "alignment_list = [column_alignments.get(column, \"left\") for column in recoms_df_modified.columns]\n",
    "\n",
    "# Tabulate the info with specified column alignments\n",
    "table = tabulate(\n",
    "    recoms_df_modified.to_dict(orient='records'),\n",
    "    headers=\"keys\",\n",
    "    tablefmt=\"html\", \n",
    "    colalign=alignment_list\n",
    ")\n",
    "\n",
    "# Find the current date\n",
    "current_date = datetime.now().strftime(\"%B %d, %Y\")\n",
    "\n",
    "# Create subject and body of the message\n",
    "subject = f'Your survey result for {current_date}'\n",
    "message = f'Your results are as follows:\\n\\n{table}'\n",
    "\n",
    "# Send the email\n",
    "send_email(subject, message)"
   ]
  }
 ],
 "metadata": {
  "kernelspec": {
   "display_name": "Python 3 (ipykernel)",
   "language": "python",
   "name": "python3"
  },
  "language_info": {
   "codemirror_mode": {
    "name": "ipython",
    "version": 3
   },
   "file_extension": ".py",
   "mimetype": "text/x-python",
   "name": "python",
   "nbconvert_exporter": "python",
   "pygments_lexer": "ipython3",
   "version": "3.10.13"
  }
 },
 "nbformat": 4,
 "nbformat_minor": 5
}
