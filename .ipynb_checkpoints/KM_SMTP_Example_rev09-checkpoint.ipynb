{
 "cells": [
  {
   "cell_type": "markdown",
   "id": "13ec9a13-1f80-41d6-b32a-bf9c85b07e0e",
   "metadata": {
    "tags": []
   },
   "source": [
    "# Sending email programmatically"
   ]
  },
  {
   "cell_type": "code",
   "execution_count": 1,
   "id": "29a3db42",
   "metadata": {
    "tags": []
   },
   "outputs": [],
   "source": [
    "# Import necessary libraries.\n",
    "import requests\n",
    "import json\n",
    "import pandas as pd\n",
    "import urllib.parse\n",
    "import smtplib\n",
    "from email.mime.multipart import MIMEMultipart\n",
    "from email.mime.text import MIMEText\n",
    "from tabulate import tabulate\n",
    "from datetime import datetime"
   ]
  },
  {
   "cell_type": "code",
   "execution_count": 2,
   "id": "e7ad2a4e",
   "metadata": {
    "tags": []
   },
   "outputs": [],
   "source": [
    "# 12 letter email app password must be added here.\n",
    "password = \"\"\n",
    "# Elastic Email API key must be added here.\n",
    "api_key = \"\""
   ]
  },
  {
   "cell_type": "markdown",
   "id": "009bdcbb",
   "metadata": {
    "tags": []
   },
   "source": [
    "## Sending an email from gmail to gmail:"
   ]
  },
  {
   "cell_type": "markdown",
   "id": "661d3c75",
   "metadata": {},
   "source": [
    "Check gmail through other email platforms: https://support.google.com/mail/answer/7126229?visit_id=638300612428115617-2230202100&p=BadCredentials&rd=2#cantsignin&zippy=%2Ci-cant-sign-in-to-my-email-client"
   ]
  },
  {
   "cell_type": "markdown",
   "id": "42747c6e",
   "metadata": {},
   "source": [
    "Sign in with app password: https://support.google.com/accounts/answer/185833?sjid=13742701505310090574-NA"
   ]
  },
  {
   "cell_type": "markdown",
   "id": "69bbb3cb-e5e4-4a2d-99fc-ae42217fe89a",
   "metadata": {},
   "source": [
    "## Data Loading and Processing:"
   ]
  },
  {
   "cell_type": "code",
   "execution_count": 3,
   "id": "39869dbe-1bd0-4381-985f-ebda31e0b635",
   "metadata": {
    "tags": []
   },
   "outputs": [],
   "source": [
    "# Load data from JSON file\n",
    "def load_data(file_path):\n",
    "    \"\"\"\n",
    "    Load data from a JSON file.\n",
    "\n",
    "    Args:\n",
    "        file_path (str): The path to the JSON file.\n",
    "\n",
    "    Returns:\n",
    "        dict: A dictionary containing the loaded data.\n",
    "    \"\"\"\n",
    "    with open(file_path, 'r') as json_file:\n",
    "        data = json.load(json_file)\n",
    "    return data\n",
    "\n",
    "# Define a custom formatting function\n",
    "def format_annual_wages(wage):\n",
    "    \"\"\"\n",
    "    Format the annual wages value with commas as thousands separators.\n",
    "\n",
    "    Parameters:\n",
    "        wage (float): The annual wages value to be formatted.\n",
    "\n",
    "    Returns:\n",
    "        str: The formatted annual wages value as a string.\n",
    "\n",
    "    Example:\n",
    "        >>> format_annual_wages(50000)\n",
    "        '50,000'\n",
    "    \"\"\"\n",
    "    return \"{:,.0f}\".format(wage)"
   ]
  },
  {
   "cell_type": "markdown",
   "id": "f3b5d24a-70a6-40a1-aeba-a083addf2204",
   "metadata": {},
   "source": [
    "## Define hyperlinks"
   ]
  },
  {
   "cell_type": "code",
   "execution_count": 4,
   "id": "7ad21d74-1dc8-42c2-80f0-505c700651dd",
   "metadata": {
    "tags": []
   },
   "outputs": [],
   "source": [
    "# Create hyperlinks\n",
    "def create_hyperlink(row):\n",
    "    \"\"\"\n",
    "    Create hyperlinks for the \"Career\" column based on provided parameters.\n",
    "\n",
    "    Args:\n",
    "        row (pandas.Series): A row of data from the DataFrame.\n",
    "\n",
    "    Returns:\n",
    "        str: An HTML hyperlink for the Career column.\n",
    "    \"\"\"\n",
    "    base_url = \"https://www.careeronestop.org/Toolkit/Careers/Occupations/occupation-profile.aspx?\"\n",
    "    parameters = {\n",
    "        \"keyword\": urllib.parse.quote(row[\"Career\"]),\n",
    "        \"location\": \"US\",\n",
    "        \"lang\": \"en\",\n",
    "        \"onetCode\": row[\"OnetCode\"]\n",
    "    }\n",
    "    url_params = \"&\".join([f\"{key}={value}\" for key, value in parameters.items()])\n",
    "    url = f'{base_url}{url_params}'\n",
    "    return f'<a href=\"{url}\">{row[\"Career\"]}</a>'"
   ]
  },
  {
   "cell_type": "markdown",
   "id": "f0d02953-f9cf-4297-9167-4e55a87409fa",
   "metadata": {},
   "source": [
    "## Email Configuration:"
   ]
  },
  {
   "cell_type": "code",
   "execution_count": 5,
   "id": "9bd2d755-c599-4f4a-9c4a-2897b016de59",
   "metadata": {
    "tags": []
   },
   "outputs": [],
   "source": [
    "# Define constants\n",
    "SENDER_EMAIL = \"kamran.techimpact@gmail.com\"\n",
    "RECEIVER_EMAIL = \"kamran.makarian@gmail.com\"\n",
    "SMTP_SERVER = \"smtp.gmail.com\"\n",
    "SMTP_PORT = 587\n",
    "EMAIL_PASSWORD = password"
   ]
  },
  {
   "cell_type": "markdown",
   "id": "a675025e-4fab-48bf-8a6f-3414c43369e9",
   "metadata": {},
   "source": [
    "## Email Sending Logic:"
   ]
  },
  {
   "cell_type": "code",
   "execution_count": 6,
   "id": "bc2a153b-f7b4-474d-b2a1-ba93ca9b1ab8",
   "metadata": {
    "tags": []
   },
   "outputs": [],
   "source": [
    "class ApiClient:\n",
    "    apiUri = 'https://api.elasticemail.com/v2'\n",
    "\n",
    "    def __init__(self, api_key):\n",
    "        self.apiKey = api_key\n",
    "\n",
    "    def Request(self, method, url, data):\n",
    "        data['apikey'] = self.apiKey\n",
    "        if method == 'POST':\n",
    "            result = requests.post(f'{self.apiUri}{url}', data=data)\n",
    "        elif method == 'PUT':\n",
    "            result = requests.put(f'{self.apiUri}{url}', data=data)\n",
    "        elif method == 'GET':\n",
    "            result = requests.get(f'{self.apiUri}{url}', params=data)\n",
    "\n",
    "        jsonMy = result.json()\n",
    "\n",
    "        if jsonMy['success'] is False:\n",
    "            return jsonMy['error']\n",
    "\n",
    "        return jsonMy['data']\n",
    "\n",
    "def Send(subject, EEfrom, fromName, to, bodyHtml, bodyText, isTransactional, api_key):\n",
    "    client = ApiClient(api_key)\n",
    "    return client.Request('POST', '/email/send', {\n",
    "        'subject': subject,\n",
    "        'from': EEfrom,\n",
    "        'fromName': fromName,\n",
    "        'to': to,\n",
    "        'bodyHtml': bodyHtml,\n",
    "        'bodyText': bodyText,\n",
    "        'isTransactional': isTransactional\n",
    "    })"
   ]
  },
  {
   "cell_type": "markdown",
   "id": "8e776ccf-40b0-455b-b43c-7a181ebce805",
   "metadata": {},
   "source": [
    "## Main Execution:"
   ]
  },
  {
   "cell_type": "code",
   "execution_count": 7,
   "id": "18ecf200-258a-4a37-99ac-82258c2cab0f",
   "metadata": {},
   "outputs": [],
   "source": [
    "# Load data\n",
    "data = load_data('/Users/kamran/Downloads/DWDB/repo/career-onestop/data/skills-submit-api/example-response.json')\n",
    "\n",
    "# Extract and format data\n",
    "key_list = list(data.keys())\n",
    "inner_dict0 = data[key_list[0]][:20]\n",
    "recoms_df = pd.DataFrame(inner_dict0)\n",
    "recoms_df_modified = recoms_df[['Rank', \n",
    "                                'OccupationTitle', \n",
    "                                'AnnualWages', \n",
    "                                'TypicalEducation', \n",
    "                                'Outlook', \n",
    "                                'OnetCode']].copy()\n",
    "\n",
    "recoms_df_modified.rename(columns={'Rank': 'Your Match', \n",
    "                                   'OccupationTitle': 'Career', \n",
    "                                   'AnnualWages': 'Annual Wages', \n",
    "                                   'TypicalEducation': 'Education'}, inplace=True)\n",
    "\n",
    "# Embed hyperlinks in Career column\n",
    "recoms_df_modified[\"Career\"] = recoms_df_modified.apply(create_hyperlink, axis=1)\n",
    "# Format Annual Wages\n",
    "recoms_df_modified['Annual Wages'] = recoms_df_modified['Annual Wages'].apply(format_annual_wages)\n",
    "\n",
    "# Drop redundant columns\n",
    "recoms_df_modified.drop('OnetCode', axis=1, inplace=True)\n",
    "\n",
    "column_alignments = {\n",
    "    \"Your Match\": \"center\",\n",
    "    \"Career\": \"left\",\n",
    "    \"Annual Wages\": \"right\",\n",
    "    \"Education\": \"left\",\n",
    "    \"Outlook\": \"left\"\n",
    "}\n",
    "\n",
    "# Extract the alignment values into a list in the same order as columns\n",
    "alignment_list = [column_alignments.get(column, \"left\") for column in recoms_df_modified.columns]\n",
    "\n",
    "# Tabulate the info with specified column alignments\n",
    "table = tabulate(\n",
    "    recoms_df_modified.to_dict(orient='records'),\n",
    "    headers=\"keys\",\n",
    "    tablefmt=\"html\",\n",
    "    colalign=alignment_list\n",
    ")\n",
    "\n",
    "# Find the current date\n",
    "current_date = datetime.now().strftime(\"%B %d, %Y\")\n",
    "\n",
    "# Create subject and body of the message\n",
    "subject = f'Your survey result for {current_date}'"
   ]
  },
  {
   "cell_type": "code",
   "execution_count": 8,
   "id": "0ee46932-b26c-46db-bd28-e83182e2f29a",
   "metadata": {},
   "outputs": [
    {
     "name": "stdout",
     "output_type": "stream",
     "text": [
      "{'transactionid': 'c517270a-d82c-01a9-c00a-542d3f9401da', 'messageid': 'NBzfIIZ-pNjYSsz3jgC6bQ2'}\n"
     ]
    }
   ],
   "source": [
    "# Style the table headers and cells\n",
    "table_headers = recoms_df_modified.columns.tolist()\n",
    "table_html = \"<table>\"\n",
    "table_html += \"<tr>\"\n",
    "\n",
    "# Style for table headers\n",
    "header_style = \"font-weight: bold; font-size: 20px;\"\n",
    "\n",
    "# Style for table cells\n",
    "cell_style = \"font-weight: normal; font-size: 16px;\"  # You can change the font size as needed\n",
    "\n",
    "for header in table_headers:\n",
    "    table_html += f\"<th style='{header_style}'>{header}</th>\"\n",
    "table_html += \"</tr>\"\n",
    "\n",
    "# Cell styling\n",
    "for record in recoms_df_modified.to_dict(orient='records'):\n",
    "    table_html += \"<tr>\"\n",
    "    for header in table_headers:\n",
    "        table_html += f\"<td style='{cell_style}'>{record[header]}</td>\"\n",
    "    table_html += \"</tr>\"\n",
    "table_html += \"</table>\"\n",
    "\n",
    "# Style for the message\n",
    "message_style = \"font-weight: normal; font-size: 16px;\"\n",
    "\n",
    "# Use the table_html in your email body\n",
    "message = f'<div style=\"{message_style}\">Your customized top 20 suggestion list is as follows:</div>\\n\\n{table_html}'\n",
    "\n",
    "result = Send(subject,\n",
    "              SENDER_EMAIL,\n",
    "              \"Tech Impact\",\n",
    "              RECEIVER_EMAIL,\n",
    "              f\"<h1>{message}</h1>\",\n",
    "              f\"{message}\",\n",
    "              True,\n",
    "              api_key)\n",
    "\n",
    "print(result)"
   ]
  },
  {
   "cell_type": "markdown",
   "id": "5fb2d7b5-683f-4aa4-9cba-6483517f3632",
   "metadata": {},
   "source": [
    "# The End"
   ]
  }
 ],
 "metadata": {
  "kernelspec": {
   "display_name": "Python 3 (ipykernel)",
   "language": "python",
   "name": "python3"
  },
  "language_info": {
   "codemirror_mode": {
    "name": "ipython",
    "version": 3
   },
   "file_extension": ".py",
   "mimetype": "text/x-python",
   "name": "python",
   "nbconvert_exporter": "python",
   "pygments_lexer": "ipython3",
   "version": "3.10.13"
  }
 },
 "nbformat": 4,
 "nbformat_minor": 5
}
